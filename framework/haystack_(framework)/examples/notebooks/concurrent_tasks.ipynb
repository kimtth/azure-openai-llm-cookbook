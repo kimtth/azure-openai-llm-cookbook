{
  "cells": [
    {
      "cell_type": "markdown",
      "metadata": {
        "id": "e1HZgoMLMdXm"
      },
      "source": [
        "# Run tasks concurrently within a custom component\n",
        "\n",
        "The execution logic of Haystack Pipelines is synchronous. Components, even if they belong to parallel branches, run one after the other.\n",
        "\n",
        "This has several advantages, including ease of debugging and the ability to handle complex workflows. In many cases/applications, this execution logic works well.\n",
        "\n",
        "Sometimes you may want to run some components concurrently.\n",
        "This can be useful for component that perform I/O-bound tasks, where most of the time is spent waiting for input/output operations. Consider, for example, waiting for a response from LLM API clients or database clients.\n",
        "\n",
        "In this cookbook, we show how you can wrap multiple components into one that will run them concurrently in different threads."
      ]
    },
    {
      "cell_type": "markdown",
      "metadata": {
        "id": "_hUHkv5eOjsC"
      },
      "source": [
        "## Preparation"
      ]
    },
    {
      "cell_type": "code",
      "execution_count": null,
      "metadata": {
        "colab": {
          "base_uri": "https://localhost:8080/"
        },
        "id": "y83PSWgPeMZh",
        "outputId": "c4312fed-450d-492b-c07d-dd2efe232886"
      },
      "outputs": [],
      "source": [
        "! pip install haystack-ai cohere-haystack elasticsearch-haystack"
      ]
    },
    {
      "cell_type": "code",
      "execution_count": 2,
      "metadata": {
        "id": "g_WBZEUUPGt-"
      },
      "outputs": [],
      "source": [
        "import os\n",
        "from rich import print\n",
        "import time"
      ]
    },
    {
      "cell_type": "code",
      "execution_count": 8,
      "metadata": {
        "id": "IurPbpyRQ-2x"
      },
      "outputs": [],
      "source": [
        "# this is only needed in Juptyer, where an asyncio event loop is already running\n",
        "\n",
        "import nest_asyncio\n",
        "nest_asyncio.apply()"
      ]
    },
    {
      "cell_type": "markdown",
      "metadata": {
        "id": "sEy_ltiXOtsz"
      },
      "source": [
        "## Concurrent Generators\n",
        "\n",
        "Use case: we want to send the same prompt to different generators and aggregate the results."
      ]
    },
    {
      "cell_type": "code",
      "execution_count": 3,
      "metadata": {
        "id": "1YhPdIH_p6ZU"
      },
      "outputs": [],
      "source": [
        "os.environ[\"OPENAI_API_KEY\"]=\"your OpenAI API key\"\n",
        "os.environ[\"COHERE_API_KEY\"]=\"your Cohere API key\""
      ]
    },
    {
      "cell_type": "code",
      "execution_count": 6,
      "metadata": {
        "id": "KZ2Nhk8Mp0bc"
      },
      "outputs": [],
      "source": [
        "# an example Document to summarize\n",
        "\n",
        "from haystack import Document\n",
        "\n",
        "\n",
        "text=\"\"\"\n",
        "The giant panda (Ailuropoda melanoleuca), also known as the panda bear or simply panda, is a bear species endemic to China. It is characterised by its black-and-white coat and rotund body. The name \"giant panda\" is sometimes used to distinguish it from the red panda, a neighboring musteloid. Adult individuals average 100 to 115 kg (220 to 254 lb), and are typically 1.2 to 1.9 m (3 ft 11 in to 6 ft 3 in) long. The species is sexually dimorphic, as males are typically 10 to 20% larger. The fur is white, with black patches around the eyes, ears, legs and shoulders. A thumb is visible on the bear's forepaw, which helps in holding bamboo in place for feeding. Giant pandas have adapted larger molars and expanded temporal fossa to meet their dietary requirements.\n",
        "\n",
        "The giant panda is exclusively found in six mountainous regions in a few provinces. It is also found in elevations of up to 3,000 m (9,800 ft). Its diet consists almost entirely of bamboo, making the bear mostly herbivorous, despite being classified in the order Carnivora. The shoot is an important energy source, as it contains starch and is 32% protein, hence pandas evolved the ability to effectively digest starch. They are solitary, only gathering in times of mating. Females rear cubs for an average of 18 to 24 months. Potential predators of sub-adult pandas include leopards. Giant pandas heavily rely on olfactory communication to communicate with one another; scent marks are used as chemical cues and on landmarks like rocks or trees. Giant pandas live long lives, with the oldest known individual dying at 38.\n",
        "\n",
        "As a result of farming, deforestation, and other development, the giant panda has been driven out of the lowland areas where it once lived, and it is a conservation-reliant vulnerable species. A 2007 report showed 239 pandas living in captivity inside China and another 27 outside the country. Some reports also show that the number of giant pandas in the wild is on the rise. By March 2015, the wild giant panda population had increased to 1,864 individuals. In 2016, it was reclassified on the IUCN Red List from \"endangered\" to \"vulnerable\", affirming decade-long efforts to save the panda. In July 2021, Chinese authorities also reclassified the giant panda as vulnerable. The giant panda has often served as China's national symbol, appeared on Chinese Gold Panda coins since 1982 and as one of the five Fuwa mascots of the 2008 Summer Olympics held in Beijing.\n",
        "\"\"\"\n",
        "\n",
        "documents = [Document(content=text)]"
      ]
    },
    {
      "cell_type": "markdown",
      "metadata": {
        "id": "8d2T7u_tPb5a"
      },
      "source": [
        "### Baseline: Pipeline with Generators running one after another"
      ]
    },
    {
      "cell_type": "code",
      "execution_count": 7,
      "metadata": {
        "colab": {
          "base_uri": "https://localhost:8080/",
          "height": 514
        },
        "id": "9a6Ncqjaoo60",
        "outputId": "4dcc4092-0137-49d7-8dea-000378aa9965"
      },
      "outputs": [
        {
          "name": "stderr",
          "output_type": "stream",
          "text": [
            "WARNING:haystack_integrations.components.generators.cohere.generator:The 'generate' API is marked as Legacy and is no longer maintained by Cohere. We recommend to use the CohereChatGenerator instead.\n"
          ]
        },
        {
          "data": {
            "text/html": [
              "<pre style=\"white-space:pre;overflow-x:auto;line-height:normal;font-family:Menlo,'DejaVu Sans Mono',consolas,'Courier New',monospace\"><span style=\"font-weight: bold\">{</span>\n",
              "    <span style=\"color: #008000; text-decoration-color: #008000\">'second_generator'</span>: <span style=\"font-weight: bold\">{</span>\n",
              "        <span style=\"color: #008000; text-decoration-color: #008000\">'replies'</span>: <span style=\"font-weight: bold\">[</span>\n",
              "            <span style=\"color: #008000; text-decoration-color: #008000\">' The giant panda is a black and white bear species endemic to China. Scientists have struggled to </span>\n",
              "<span style=\"color: #008000; text-decoration-color: #008000\">classify the species due to its unique, exclusive diet of bamboo. The giant panda lives in mountainous regions, is </span>\n",
              "<span style=\"color: #008000; text-decoration-color: #008000\">mostly herbivorous, and is a solitary animal. Due to deforestation and development, the giant panda is now a </span>\n",
              "<span style=\"color: #008000; text-decoration-color: #008000\">vulnerable species, and relies on conservation efforts for its survival. '</span>\n",
              "        <span style=\"font-weight: bold\">]</span>,\n",
              "        <span style=\"color: #008000; text-decoration-color: #008000\">'meta'</span>: <span style=\"font-weight: bold\">[{</span><span style=\"color: #008000; text-decoration-color: #008000\">'finish_reason'</span>: <span style=\"color: #008000; text-decoration-color: #008000\">'COMPLETE'</span><span style=\"font-weight: bold\">}]</span>\n",
              "    <span style=\"font-weight: bold\">}</span>,\n",
              "    <span style=\"color: #008000; text-decoration-color: #008000\">'first_generator'</span>: <span style=\"font-weight: bold\">{</span>\n",
              "        <span style=\"color: #008000; text-decoration-color: #008000\">'replies'</span>: <span style=\"font-weight: bold\">[</span>\n",
              "            <span style=\"color: #008000; text-decoration-color: #008000\">'The giant panda is a bear species endemic to China, known for its black-and-white coat and reliance on</span>\n",
              "<span style=\"color: #008000; text-decoration-color: #008000\">bamboo in its diet. Despite being classified as carnivores, they are mostly herbivorous. Giant pandas live in </span>\n",
              "<span style=\"color: #008000; text-decoration-color: #008000\">mountainous regions and are solitary animals, only coming together during mating. They are a conservation-reliant </span>\n",
              "<span style=\"color: #008000; text-decoration-color: #008000\">vulnerable species due to farming, deforestation, and other development. Efforts to save the giant panda have been </span>\n",
              "<span style=\"color: #008000; text-decoration-color: #008000\">successful, with the wild population increasing in recent years. It is also a symbol of China and has been featured</span>\n",
              "<span style=\"color: #008000; text-decoration-color: #008000\">on Chinese coins and Olympic mascots.'</span>\n",
              "        <span style=\"font-weight: bold\">]</span>,\n",
              "        <span style=\"color: #008000; text-decoration-color: #008000\">'meta'</span>: <span style=\"font-weight: bold\">[</span>\n",
              "            <span style=\"font-weight: bold\">{</span>\n",
              "                <span style=\"color: #008000; text-decoration-color: #008000\">'model'</span>: <span style=\"color: #008000; text-decoration-color: #008000\">'gpt-3.5-turbo-0125'</span>,\n",
              "                <span style=\"color: #008000; text-decoration-color: #008000\">'index'</span>: <span style=\"color: #008080; text-decoration-color: #008080; font-weight: bold\">0</span>,\n",
              "                <span style=\"color: #008000; text-decoration-color: #008000\">'finish_reason'</span>: <span style=\"color: #008000; text-decoration-color: #008000\">'stop'</span>,\n",
              "                <span style=\"color: #008000; text-decoration-color: #008000\">'usage'</span>: <span style=\"font-weight: bold\">{</span><span style=\"color: #008000; text-decoration-color: #008000\">'completion_tokens'</span>: <span style=\"color: #008080; text-decoration-color: #008080; font-weight: bold\">117</span>, <span style=\"color: #008000; text-decoration-color: #008000\">'prompt_tokens'</span>: <span style=\"color: #008080; text-decoration-color: #008080; font-weight: bold\">585</span>, <span style=\"color: #008000; text-decoration-color: #008000\">'total_tokens'</span>: <span style=\"color: #008080; text-decoration-color: #008080; font-weight: bold\">702</span><span style=\"font-weight: bold\">}</span>\n",
              "            <span style=\"font-weight: bold\">}</span>\n",
              "        <span style=\"font-weight: bold\">]</span>\n",
              "    <span style=\"font-weight: bold\">}</span>\n",
              "<span style=\"font-weight: bold\">}</span>\n",
              "</pre>\n"
            ],
            "text/plain": [
              "\u001b[1m{\u001b[0m\n",
              "    \u001b[32m'second_generator'\u001b[0m: \u001b[1m{\u001b[0m\n",
              "        \u001b[32m'replies'\u001b[0m: \u001b[1m[\u001b[0m\n",
              "            \u001b[32m' The giant panda is a black and white bear species endemic to China. Scientists have struggled to \u001b[0m\n",
              "\u001b[32mclassify the species due to its unique, exclusive diet of bamboo. The giant panda lives in mountainous regions, is \u001b[0m\n",
              "\u001b[32mmostly herbivorous, and is a solitary animal. Due to deforestation and development, the giant panda is now a \u001b[0m\n",
              "\u001b[32mvulnerable species, and relies on conservation efforts for its survival. '\u001b[0m\n",
              "        \u001b[1m]\u001b[0m,\n",
              "        \u001b[32m'meta'\u001b[0m: \u001b[1m[\u001b[0m\u001b[1m{\u001b[0m\u001b[32m'finish_reason'\u001b[0m: \u001b[32m'COMPLETE'\u001b[0m\u001b[1m}\u001b[0m\u001b[1m]\u001b[0m\n",
              "    \u001b[1m}\u001b[0m,\n",
              "    \u001b[32m'first_generator'\u001b[0m: \u001b[1m{\u001b[0m\n",
              "        \u001b[32m'replies'\u001b[0m: \u001b[1m[\u001b[0m\n",
              "            \u001b[32m'The giant panda is a bear species endemic to China, known for its black-and-white coat and reliance on\u001b[0m\n",
              "\u001b[32mbamboo in its diet. Despite being classified as carnivores, they are mostly herbivorous. Giant pandas live in \u001b[0m\n",
              "\u001b[32mmountainous regions and are solitary animals, only coming together during mating. They are a conservation-reliant \u001b[0m\n",
              "\u001b[32mvulnerable species due to farming, deforestation, and other development. Efforts to save the giant panda have been \u001b[0m\n",
              "\u001b[32msuccessful, with the wild population increasing in recent years. It is also a symbol of China and has been featured\u001b[0m\n",
              "\u001b[32mon Chinese coins and Olympic mascots.'\u001b[0m\n",
              "        \u001b[1m]\u001b[0m,\n",
              "        \u001b[32m'meta'\u001b[0m: \u001b[1m[\u001b[0m\n",
              "            \u001b[1m{\u001b[0m\n",
              "                \u001b[32m'model'\u001b[0m: \u001b[32m'gpt-3.5-turbo-0125'\u001b[0m,\n",
              "                \u001b[32m'index'\u001b[0m: \u001b[1;36m0\u001b[0m,\n",
              "                \u001b[32m'finish_reason'\u001b[0m: \u001b[32m'stop'\u001b[0m,\n",
              "                \u001b[32m'usage'\u001b[0m: \u001b[1m{\u001b[0m\u001b[32m'completion_tokens'\u001b[0m: \u001b[1;36m117\u001b[0m, \u001b[32m'prompt_tokens'\u001b[0m: \u001b[1;36m585\u001b[0m, \u001b[32m'total_tokens'\u001b[0m: \u001b[1;36m702\u001b[0m\u001b[1m}\u001b[0m\n",
              "            \u001b[1m}\u001b[0m\n",
              "        \u001b[1m]\u001b[0m\n",
              "    \u001b[1m}\u001b[0m\n",
              "\u001b[1m}\u001b[0m\n"
            ]
          },
          "metadata": {},
          "output_type": "display_data"
        },
        {
          "data": {
            "text/html": [
              "<pre style=\"white-space:pre;overflow-x:auto;line-height:normal;font-family:Menlo,'DejaVu Sans Mono',consolas,'Courier New',monospace\">Time taken for <span style=\"color: #008080; text-decoration-color: #008080; font-weight: bold\">5</span> non concurrent calls: <span style=\"color: #008080; text-decoration-color: #008080; font-weight: bold\">28.85969638824463</span> seconds\n",
              "</pre>\n"
            ],
            "text/plain": [
              "Time taken for \u001b[1;36m5\u001b[0m non concurrent calls: \u001b[1;36m28.85969638824463\u001b[0m seconds\n"
            ]
          },
          "metadata": {},
          "output_type": "display_data"
        }
      ],
      "source": [
        "from haystack import Pipeline\n",
        "\n",
        "from haystack.components.generators import OpenAIGenerator\n",
        "from haystack_integrations.components.generators.cohere import CohereGenerator\n",
        "from haystack.components.builders import PromptBuilder\n",
        "\n",
        "documents = [Document(content=text)]\n",
        "\n",
        "\n",
        "template = \"\"\"Write a short summary of the following text.\n",
        "Text:\n",
        "{% for doc in documents %}\n",
        "    {{ doc.content }}\n",
        "{% endfor %}\n",
        "\"\"\"\n",
        "\n",
        "pipeline = Pipeline()\n",
        "pipeline.add_component(\"prompt_builder\", PromptBuilder(template))\n",
        "pipeline.add_component(\"first_generator\", OpenAIGenerator())\n",
        "pipeline.add_component(\"second_generator\", CohereGenerator())\n",
        "\n",
        "pipeline.connect(\"prompt_builder\", \"first_generator\")\n",
        "pipeline.connect(\"prompt_builder\", \"second_generator\")\n",
        "\n",
        "start = time.time()\n",
        "n=5\n",
        "for i in range(n):\n",
        "  result = pipeline.run({\"prompt_builder\": {\"documents\": documents}})\n",
        "end = time.time()\n",
        "print(result)\n",
        "print(f\"Time taken for {n} non concurrent calls: {end - start} seconds\")"
      ]
    },
    {
      "cell_type": "markdown",
      "metadata": {
        "id": "uuQIEraiRDwS"
      },
      "source": [
        "### Optimisation: Pipeline with Generators running concurrently\n",
        "\n",
        "We wrap multiple generators into a single component that internally will run them concurrently in different threads. To simplify the threads orchestration, we use the `to_thread` function from `asyncio`. The component itself will stay synchronous, exposing the usual `run` method."
      ]
    },
    {
      "cell_type": "markdown",
      "metadata": {
        "id": "tXfYVs6RRSGO"
      },
      "source": [
        "#### ConcurrentGenerators component\n",
        "\n",
        "- This component expects a list of generators and names as initialization parameters.\n",
        "\n",
        "- The `_arun` method is an async method, where concurrent execution takes place. It creates a thread for each generator and waits for all threads to finish. Then the results are collected, aggregated, and returned.\n",
        "\n",
        "- The `run` method is synchronous (as expected by the Haystack pipeline) and calls the `_arun` method using `asyncio.run`.\n",
        "\n",
        "\n",
        "Learn about creating custom components [in our documentation](https://docs.haystack.deepset.ai/docs/custom-components)."
      ]
    },
    {
      "cell_type": "code",
      "execution_count": 9,
      "metadata": {
        "id": "BisvhZlRqN7p"
      },
      "outputs": [],
      "source": [
        "from haystack.core.component import Component\n",
        "from haystack.components.generators import OpenAIGenerator\n",
        "from haystack.components.builders import PromptBuilder\n",
        "from typing import List, Dict, Any, Optional\n",
        "from haystack import component, default_from_dict, default_to_dict\n",
        "from haystack.utils.type_serialization import deserialize_type\n",
        "import asyncio\n",
        "\n",
        "\n",
        "@component\n",
        "class ConcurrentGenerators:\n",
        "    def __init__(self, generators: List[Component], names: Optional[List[str]] = None):\n",
        "        self.generators = generators\n",
        "        if names is None:\n",
        "            names = [f\"generator_{i}\" for i in range(len(generators))]\n",
        "        self.names = names\n",
        "\n",
        "\t\t\t  # we set the output types here so that the results are not too nested\n",
        "        output_types = {k: Dict[str, Any] for k in names}\n",
        "        component.set_output_types(self, **output_types)\n",
        "\n",
        "    def warm_up(self):\n",
        "        \"\"\"Warm up the generators.\"\"\"\n",
        "        for generator in self.generators:\n",
        "            if hasattr(generator, \"warm_up\"):\n",
        "                generator.warm_up()\n",
        "\n",
        "    async def _arun(self, **kwargs):\n",
        "        \"\"\"\n",
        "        Asynchrounous method to run the generators concurrently.\n",
        "        \"\"\"\n",
        "\n",
        "        # the generators run in separate threads\n",
        "        results = await asyncio.gather(\n",
        "           *[asyncio.to_thread(generator.run, **kwargs) for generator in self.generators]\n",
        "        )\n",
        "\n",
        "        organized_results = {}\n",
        "        for generator_name, res_ in zip(self.names, results):\n",
        "            organized_results[generator_name] = res_\n",
        "        return organized_results\n",
        "\n",
        "    def run(self, prompt: str):\n",
        "        \"\"\"\n",
        "        Synchronous run method that can be integrated into a classic synchronous pipeline.\n",
        "        \"\"\"\n",
        "        results = asyncio.run(self._arun(prompt=prompt))\n",
        "        return {\"results\": results}\n",
        "\n",
        "\n",
        "    def to_dict(self):\n",
        "        generators = [generator.to_dict() for generator in self.generators]\n",
        "        return default_to_dict(self, generators=generators, names=self.names)\n",
        "\n",
        "    @classmethod\n",
        "    def from_dict(cls, data: Dict[str, Any]) -> \"ConcurrentGenerators\":\n",
        "        init_params = data.get(\"init_parameters\", {})\n",
        "\n",
        "        # Deserialize the generators\n",
        "        generators = []\n",
        "        serialized_generators = init_params[\"generators\"]\n",
        "        for serialized_generator in serialized_generators:\n",
        "            generator_class = deserialize_type(serialized_generator[\"type\"])\n",
        "            generator = generator_class.from_dict(serialized_generator)\n",
        "            generators.append(generator)\n",
        "\n",
        "        data[\"init_parameters\"][\"generators\"] = generators\n",
        "        return default_from_dict(cls, data)"
      ]
    },
    {
      "cell_type": "markdown",
      "metadata": {
        "id": "-mG5f6gzRg93"
      },
      "source": [
        "#### Pipeline with ConcurrentGenerators component"
      ]
    },
    {
      "cell_type": "code",
      "execution_count": 11,
      "metadata": {
        "colab": {
          "base_uri": "https://localhost:8080/",
          "height": 594
        },
        "id": "fW8ghvbMsPqE",
        "outputId": "c7b2d926-7a9e-42bc-b7fa-e268b315f274"
      },
      "outputs": [
        {
          "name": "stderr",
          "output_type": "stream",
          "text": [
            "WARNING:haystack_integrations.components.generators.cohere.generator:The 'generate' API is marked as Legacy and is no longer maintained by Cohere. We recommend to use the CohereChatGenerator instead.\n"
          ]
        },
        {
          "data": {
            "text/html": [
              "<pre style=\"white-space:pre;overflow-x:auto;line-height:normal;font-family:Menlo,'DejaVu Sans Mono',consolas,'Courier New',monospace\"><span style=\"font-weight: bold\">{</span>\n",
              "    <span style=\"color: #008000; text-decoration-color: #008000\">'concurrent_generators'</span>: <span style=\"font-weight: bold\">{</span>\n",
              "        <span style=\"color: #008000; text-decoration-color: #008000\">'results'</span>: <span style=\"font-weight: bold\">{</span>\n",
              "            <span style=\"color: #008000; text-decoration-color: #008000\">'openai'</span>: <span style=\"font-weight: bold\">{</span>\n",
              "                <span style=\"color: #008000; text-decoration-color: #008000\">'replies'</span>: <span style=\"font-weight: bold\">[</span>\n",
              "                    <span style=\"color: #008000; text-decoration-color: #008000\">'The text provides information about the giant panda, a bear species endemic to China known for</span>\n",
              "<span style=\"color: #008000; text-decoration-color: #008000\">its black-and-white coat and rotund body. The species primarily feeds on bamboo and is classified as herbivorous </span>\n",
              "<span style=\"color: #008000; text-decoration-color: #008000\">despite being in the order Carnivora. Due to farming, deforestation, and development, the giant panda is a </span>\n",
              "<span style=\"color: #008000; text-decoration-color: #008000\">conservation-reliant vulnerable species. Efforts have been made to save the panda, resulting in an increase in the </span>\n",
              "<span style=\"color: #008000; text-decoration-color: #008000\">wild population. The giant panda is a national symbol of China and has been featured on various coins and mascots, </span>\n",
              "<span style=\"color: #008000; text-decoration-color: #008000\">including the 2008 Beijing Summer Olympics.'</span>\n",
              "                <span style=\"font-weight: bold\">]</span>,\n",
              "                <span style=\"color: #008000; text-decoration-color: #008000\">'meta'</span>: <span style=\"font-weight: bold\">[</span>\n",
              "                    <span style=\"font-weight: bold\">{</span>\n",
              "                        <span style=\"color: #008000; text-decoration-color: #008000\">'model'</span>: <span style=\"color: #008000; text-decoration-color: #008000\">'gpt-3.5-turbo-0125'</span>,\n",
              "                        <span style=\"color: #008000; text-decoration-color: #008000\">'index'</span>: <span style=\"color: #008080; text-decoration-color: #008080; font-weight: bold\">0</span>,\n",
              "                        <span style=\"color: #008000; text-decoration-color: #008000\">'finish_reason'</span>: <span style=\"color: #008000; text-decoration-color: #008000\">'stop'</span>,\n",
              "                        <span style=\"color: #008000; text-decoration-color: #008000\">'usage'</span>: <span style=\"font-weight: bold\">{</span><span style=\"color: #008000; text-decoration-color: #008000\">'completion_tokens'</span>: <span style=\"color: #008080; text-decoration-color: #008080; font-weight: bold\">119</span>, <span style=\"color: #008000; text-decoration-color: #008000\">'prompt_tokens'</span>: <span style=\"color: #008080; text-decoration-color: #008080; font-weight: bold\">585</span>, <span style=\"color: #008000; text-decoration-color: #008000\">'total_tokens'</span>: <span style=\"color: #008080; text-decoration-color: #008080; font-weight: bold\">704</span><span style=\"font-weight: bold\">}</span>\n",
              "                    <span style=\"font-weight: bold\">}</span>\n",
              "                <span style=\"font-weight: bold\">]</span>\n",
              "            <span style=\"font-weight: bold\">}</span>,\n",
              "            <span style=\"color: #008000; text-decoration-color: #008000\">'cohere'</span>: <span style=\"font-weight: bold\">{</span>\n",
              "                <span style=\"color: #008000; text-decoration-color: #008000\">'replies'</span>: <span style=\"font-weight: bold\">[</span>\n",
              "                    <span style=\"color: #008000; text-decoration-color: #008000\">\" The giant panda is a vulnerable species found only in China. Despite its dietary </span>\n",
              "<span style=\"color: #008000; text-decoration-color: #008000\">classification, the giant panda is herbivorous, feeding mostly on bamboo. They are heavy climbers and typically </span>\n",
              "<span style=\"color: #008000; text-decoration-color: #008000\">live alone or in pairs. \\nThe giant panda has been China's national symbol and over the years, its </span>\n",
              "<span style=\"color: #008000; text-decoration-color: #008000\">conservation-reliant status has been a focal point for Chinese authorities. The giant panda was reclassified as </span>\n",
              "<span style=\"color: #008000; text-decoration-color: #008000\">vulnerable in 2016, and again in 2021. \"</span>\n",
              "                <span style=\"font-weight: bold\">]</span>,\n",
              "                <span style=\"color: #008000; text-decoration-color: #008000\">'meta'</span>: <span style=\"font-weight: bold\">[{</span><span style=\"color: #008000; text-decoration-color: #008000\">'finish_reason'</span>: <span style=\"color: #008000; text-decoration-color: #008000\">'COMPLETE'</span><span style=\"font-weight: bold\">}]</span>\n",
              "            <span style=\"font-weight: bold\">}</span>\n",
              "        <span style=\"font-weight: bold\">}</span>\n",
              "    <span style=\"font-weight: bold\">}</span>\n",
              "<span style=\"font-weight: bold\">}</span>\n",
              "</pre>\n"
            ],
            "text/plain": [
              "\u001b[1m{\u001b[0m\n",
              "    \u001b[32m'concurrent_generators'\u001b[0m: \u001b[1m{\u001b[0m\n",
              "        \u001b[32m'results'\u001b[0m: \u001b[1m{\u001b[0m\n",
              "            \u001b[32m'openai'\u001b[0m: \u001b[1m{\u001b[0m\n",
              "                \u001b[32m'replies'\u001b[0m: \u001b[1m[\u001b[0m\n",
              "                    \u001b[32m'The text provides information about the giant panda, a bear species endemic to China known for\u001b[0m\n",
              "\u001b[32mits black-and-white coat and rotund body. The species primarily feeds on bamboo and is classified as herbivorous \u001b[0m\n",
              "\u001b[32mdespite being in the order Carnivora. Due to farming, deforestation, and development, the giant panda is a \u001b[0m\n",
              "\u001b[32mconservation-reliant vulnerable species. Efforts have been made to save the panda, resulting in an increase in the \u001b[0m\n",
              "\u001b[32mwild population. The giant panda is a national symbol of China and has been featured on various coins and mascots, \u001b[0m\n",
              "\u001b[32mincluding the 2008 Beijing Summer Olympics.'\u001b[0m\n",
              "                \u001b[1m]\u001b[0m,\n",
              "                \u001b[32m'meta'\u001b[0m: \u001b[1m[\u001b[0m\n",
              "                    \u001b[1m{\u001b[0m\n",
              "                        \u001b[32m'model'\u001b[0m: \u001b[32m'gpt-3.5-turbo-0125'\u001b[0m,\n",
              "                        \u001b[32m'index'\u001b[0m: \u001b[1;36m0\u001b[0m,\n",
              "                        \u001b[32m'finish_reason'\u001b[0m: \u001b[32m'stop'\u001b[0m,\n",
              "                        \u001b[32m'usage'\u001b[0m: \u001b[1m{\u001b[0m\u001b[32m'completion_tokens'\u001b[0m: \u001b[1;36m119\u001b[0m, \u001b[32m'prompt_tokens'\u001b[0m: \u001b[1;36m585\u001b[0m, \u001b[32m'total_tokens'\u001b[0m: \u001b[1;36m704\u001b[0m\u001b[1m}\u001b[0m\n",
              "                    \u001b[1m}\u001b[0m\n",
              "                \u001b[1m]\u001b[0m\n",
              "            \u001b[1m}\u001b[0m,\n",
              "            \u001b[32m'cohere'\u001b[0m: \u001b[1m{\u001b[0m\n",
              "                \u001b[32m'replies'\u001b[0m: \u001b[1m[\u001b[0m\n",
              "                    \u001b[32m\" The giant panda is a vulnerable species found only in China. Despite its dietary \u001b[0m\n",
              "\u001b[32mclassification, the giant panda is herbivorous, feeding mostly on bamboo. They are heavy climbers and typically \u001b[0m\n",
              "\u001b[32mlive alone or in pairs. \\nThe giant panda has been China's national symbol and over the years, its \u001b[0m\n",
              "\u001b[32mconservation-reliant status has been a focal point for Chinese authorities. The giant panda was reclassified as \u001b[0m\n",
              "\u001b[32mvulnerable in 2016, and again in 2021. \"\u001b[0m\n",
              "                \u001b[1m]\u001b[0m,\n",
              "                \u001b[32m'meta'\u001b[0m: \u001b[1m[\u001b[0m\u001b[1m{\u001b[0m\u001b[32m'finish_reason'\u001b[0m: \u001b[32m'COMPLETE'\u001b[0m\u001b[1m}\u001b[0m\u001b[1m]\u001b[0m\n",
              "            \u001b[1m}\u001b[0m\n",
              "        \u001b[1m}\u001b[0m\n",
              "    \u001b[1m}\u001b[0m\n",
              "\u001b[1m}\u001b[0m\n"
            ]
          },
          "metadata": {},
          "output_type": "display_data"
        },
        {
          "data": {
            "text/html": [
              "<pre style=\"white-space:pre;overflow-x:auto;line-height:normal;font-family:Menlo,'DejaVu Sans Mono',consolas,'Courier New',monospace\">Time taken for <span style=\"color: #008080; text-decoration-color: #008080; font-weight: bold\">5</span> concurrent calls: <span style=\"color: #008080; text-decoration-color: #008080; font-weight: bold\">17.31975769996643</span> seconds\n",
              "</pre>\n"
            ],
            "text/plain": [
              "Time taken for \u001b[1;36m5\u001b[0m concurrent calls: \u001b[1;36m17.31975769996643\u001b[0m seconds\n"
            ]
          },
          "metadata": {},
          "output_type": "display_data"
        }
      ],
      "source": [
        "pipeline = Pipeline()\n",
        "pipeline.add_component(\"prompt_builder\", PromptBuilder(template))\n",
        "pipeline.add_component(\"concurrent_generators\", ConcurrentGenerators(\n",
        "    generators=[OpenAIGenerator(), CohereGenerator()],\n",
        "    names=[\"openai\", \"cohere\"]))\n",
        "\n",
        "pipeline.connect(\"prompt_builder\", \"concurrent_generators\")\n",
        "\n",
        "start = time.time()\n",
        "n=5\n",
        "for i in range(n):\n",
        "  result = pipeline.run({\"prompt_builder\": {\"documents\": documents}})\n",
        "end = time.time()\n",
        "print(result)\n",
        "print(f\"Time taken for {n} concurrent calls: {end - start} seconds\")"
      ]
    },
    {
      "cell_type": "markdown",
      "metadata": {
        "id": "Tht17qr7SBPi"
      },
      "source": [
        "Nice!\n",
        "Our approach does the trick."
      ]
    },
    {
      "cell_type": "markdown",
      "metadata": {
        "id": "iDrLj-GYSihL"
      },
      "source": [
        "## Concurrent Retrievers\n",
        "\n",
        "Use case: we want to send a user query to different retrievers concurrently. For example, we could send a user query to a keyword-based retriever and a semantic one, and join both sets of results.\n",
        "\n",
        "⚠️ Some Document Stores have Hybrid Retrievers that internally send a single batch query to the DB. This solution is generally more efficient than the following approach."
      ]
    },
    {
      "cell_type": "markdown",
      "metadata": {},
      "source": [
        "We first generate some Documents with random `content` and `embedding`.\n",
        "The documents are written in `ElasticsearchDocumentStore`."
      ]
    },
    {
      "cell_type": "code",
      "execution_count": 12,
      "metadata": {
        "colab": {
          "base_uri": "https://localhost:8080/",
          "height": 257
        },
        "id": "BOHkxLDjv2Ed",
        "outputId": "de4fa16f-f497-4077-aca3-88b3967e8757"
      },
      "outputs": [
        {
          "data": {
            "text/html": [
              "<pre style=\"white-space:pre;overflow-x:auto;line-height:normal;font-family:Menlo,'DejaVu Sans Mono',consolas,'Courier New',monospace\"><span style=\"color: #008080; text-decoration-color: #008080; font-weight: bold\">1000</span>\n",
              "</pre>\n"
            ],
            "text/plain": [
              "\u001b[1;36m1000\u001b[0m\n"
            ]
          },
          "metadata": {},
          "output_type": "display_data"
        },
        {
          "data": {
            "text/html": [
              "<pre style=\"white-space:pre;overflow-x:auto;line-height:normal;font-family:Menlo,'DejaVu Sans Mono',consolas,'Courier New',monospace\"><span style=\"font-weight: bold\">[</span>\n",
              "    <span style=\"color: #800080; text-decoration-color: #800080; font-weight: bold\">Document</span><span style=\"font-weight: bold\">(</span><span style=\"color: #808000; text-decoration-color: #808000\">id</span>=<span style=\"color: #800080; text-decoration-color: #800080\">c02b93cdfbc7afa9d8475f20500e340d43e1dbbd0b8e17458817d886f5ff3d68</span>, content: <span style=\"color: #008000; text-decoration-color: #008000\">'The capital of Italy is</span>\n",
              "<span style=\"color: #008000; text-decoration-color: #008000\">Rome 0'</span>, score: <span style=\"color: #008080; text-decoration-color: #008080; font-weight: bold\">1.0</span>, embedding: vector of size <span style=\"color: #008080; text-decoration-color: #008080; font-weight: bold\">768</span><span style=\"font-weight: bold\">)</span>,\n",
              "    <span style=\"color: #800080; text-decoration-color: #800080; font-weight: bold\">Document</span><span style=\"font-weight: bold\">(</span><span style=\"color: #808000; text-decoration-color: #808000\">id</span>=<span style=\"color: #800080; text-decoration-color: #800080\">49679c985b4ab56bddebd77190836cfe772eb537121f87dc5ec67313931a3db0</span>, content: <span style=\"color: #008000; text-decoration-color: #008000\">'The capital of Italy is</span>\n",
              "<span style=\"color: #008000; text-decoration-color: #008000\">Rome 1'</span>, score: <span style=\"color: #008080; text-decoration-color: #008080; font-weight: bold\">1.0</span>, embedding: vector of size <span style=\"color: #008080; text-decoration-color: #008080; font-weight: bold\">768</span><span style=\"font-weight: bold\">)</span>,\n",
              "    <span style=\"color: #800080; text-decoration-color: #800080; font-weight: bold\">Document</span><span style=\"font-weight: bold\">(</span><span style=\"color: #808000; text-decoration-color: #808000\">id</span>=<span style=\"color: #800080; text-decoration-color: #800080\">76f7ac287e02cf5972db85446efcc230b7a4f0d8988fc325ec15b1c4d8188eb5</span>, content: <span style=\"color: #008000; text-decoration-color: #008000\">'The capital of Spain is</span>\n",
              "<span style=\"color: #008000; text-decoration-color: #008000\">Madrid 2'</span>, score: <span style=\"color: #008080; text-decoration-color: #008080; font-weight: bold\">1.0</span>, embedding: vector of size <span style=\"color: #008080; text-decoration-color: #008080; font-weight: bold\">768</span><span style=\"font-weight: bold\">)</span>,\n",
              "    <span style=\"color: #800080; text-decoration-color: #800080; font-weight: bold\">Document</span><span style=\"font-weight: bold\">(</span><span style=\"color: #808000; text-decoration-color: #808000\">id</span>=<span style=\"color: #800080; text-decoration-color: #800080\">e44a482bfde5acf6636f9046f28634175dcd3f8021a7a7297e3aeb81f3aeef23</span>, content: <span style=\"color: #008000; text-decoration-color: #008000\">'The capital of France </span>\n",
              "<span style=\"color: #008000; text-decoration-color: #008000\">is Paris 3'</span>, score: <span style=\"color: #008080; text-decoration-color: #008080; font-weight: bold\">1.0</span>, embedding: vector of size <span style=\"color: #008080; text-decoration-color: #008080; font-weight: bold\">768</span><span style=\"font-weight: bold\">)</span>,\n",
              "    <span style=\"color: #800080; text-decoration-color: #800080; font-weight: bold\">Document</span><span style=\"font-weight: bold\">(</span><span style=\"color: #808000; text-decoration-color: #808000\">id</span>=<span style=\"color: #800080; text-decoration-color: #800080\">3c14dad24490e08e8dad5b9ac53a7180181eb80f1656d31b08a3dc314a3983be</span>, content: <span style=\"color: #008000; text-decoration-color: #008000\">'The capital of Italy is</span>\n",
              "<span style=\"color: #008000; text-decoration-color: #008000\">Rome 4'</span>, score: <span style=\"color: #008080; text-decoration-color: #008080; font-weight: bold\">1.0</span>, embedding: vector of size <span style=\"color: #008080; text-decoration-color: #008080; font-weight: bold\">768</span><span style=\"font-weight: bold\">)</span>,\n",
              "    <span style=\"color: #800080; text-decoration-color: #800080; font-weight: bold\">Document</span><span style=\"font-weight: bold\">(</span><span style=\"color: #808000; text-decoration-color: #808000\">id</span>=<span style=\"color: #800080; text-decoration-color: #800080\">51aaaae5e07b07b3b53b07bf2cd159432ce0c4b2178a79f41999b6cb7c1f2af1</span>, content: <span style=\"color: #008000; text-decoration-color: #008000\">'The capital of Italy is</span>\n",
              "<span style=\"color: #008000; text-decoration-color: #008000\">Rome 5'</span>, score: <span style=\"color: #008080; text-decoration-color: #008080; font-weight: bold\">1.0</span>, embedding: vector of size <span style=\"color: #008080; text-decoration-color: #008080; font-weight: bold\">768</span><span style=\"font-weight: bold\">)</span>\n",
              "<span style=\"font-weight: bold\">]</span>\n",
              "</pre>\n"
            ],
            "text/plain": [
              "\u001b[1m[\u001b[0m\n",
              "    \u001b[1;35mDocument\u001b[0m\u001b[1m(\u001b[0m\u001b[33mid\u001b[0m=\u001b[35mc02b93cdfbc7afa9d8475f20500e340d43e1dbbd0b8e17458817d886f5ff3d68\u001b[0m, content: \u001b[32m'The capital of Italy is\u001b[0m\n",
              "\u001b[32mRome 0'\u001b[0m, score: \u001b[1;36m1.0\u001b[0m, embedding: vector of size \u001b[1;36m768\u001b[0m\u001b[1m)\u001b[0m,\n",
              "    \u001b[1;35mDocument\u001b[0m\u001b[1m(\u001b[0m\u001b[33mid\u001b[0m=\u001b[35m49679c985b4ab56bddebd77190836cfe772eb537121f87dc5ec67313931a3db0\u001b[0m, content: \u001b[32m'The capital of Italy is\u001b[0m\n",
              "\u001b[32mRome 1'\u001b[0m, score: \u001b[1;36m1.0\u001b[0m, embedding: vector of size \u001b[1;36m768\u001b[0m\u001b[1m)\u001b[0m,\n",
              "    \u001b[1;35mDocument\u001b[0m\u001b[1m(\u001b[0m\u001b[33mid\u001b[0m=\u001b[35m76f7ac287e02cf5972db85446efcc230b7a4f0d8988fc325ec15b1c4d8188eb5\u001b[0m, content: \u001b[32m'The capital of Spain is\u001b[0m\n",
              "\u001b[32mMadrid 2'\u001b[0m, score: \u001b[1;36m1.0\u001b[0m, embedding: vector of size \u001b[1;36m768\u001b[0m\u001b[1m)\u001b[0m,\n",
              "    \u001b[1;35mDocument\u001b[0m\u001b[1m(\u001b[0m\u001b[33mid\u001b[0m=\u001b[35me44a482bfde5acf6636f9046f28634175dcd3f8021a7a7297e3aeb81f3aeef23\u001b[0m, content: \u001b[32m'The capital of France \u001b[0m\n",
              "\u001b[32mis Paris 3'\u001b[0m, score: \u001b[1;36m1.0\u001b[0m, embedding: vector of size \u001b[1;36m768\u001b[0m\u001b[1m)\u001b[0m,\n",
              "    \u001b[1;35mDocument\u001b[0m\u001b[1m(\u001b[0m\u001b[33mid\u001b[0m=\u001b[35m3c14dad24490e08e8dad5b9ac53a7180181eb80f1656d31b08a3dc314a3983be\u001b[0m, content: \u001b[32m'The capital of Italy is\u001b[0m\n",
              "\u001b[32mRome 4'\u001b[0m, score: \u001b[1;36m1.0\u001b[0m, embedding: vector of size \u001b[1;36m768\u001b[0m\u001b[1m)\u001b[0m,\n",
              "    \u001b[1;35mDocument\u001b[0m\u001b[1m(\u001b[0m\u001b[33mid\u001b[0m=\u001b[35m51aaaae5e07b07b3b53b07bf2cd159432ce0c4b2178a79f41999b6cb7c1f2af1\u001b[0m, content: \u001b[32m'The capital of Italy is\u001b[0m\n",
              "\u001b[32mRome 5'\u001b[0m, score: \u001b[1;36m1.0\u001b[0m, embedding: vector of size \u001b[1;36m768\u001b[0m\u001b[1m)\u001b[0m\n",
              "\u001b[1m]\u001b[0m\n"
            ]
          },
          "metadata": {},
          "output_type": "display_data"
        }
      ],
      "source": [
        "from haystack_integrations.document_stores.elasticsearch import ElasticsearchDocumentStore\n",
        "\n",
        "from haystack import Document\n",
        "import numpy as np\n",
        "import random\n",
        "\n",
        "contents = [\"The capital of Germany is Berlin\", \"The capital of France is Paris\", \"The capital of Spain is Madrid\", \"The capital of Italy is Rome\"]\n",
        "\n",
        "documents =[]\n",
        "for i in range(1_000):\n",
        "    doc = Document(\n",
        "        content=random.choice(contents)+f\" {i}\",\n",
        "        embedding=np.random.rand(768).tolist()\n",
        "    )\n",
        "    documents.append(doc)\n",
        "\n",
        "\n",
        "document_store = ElasticsearchDocumentStore(cloud_id=\"your Elastic Cloud ID\",\n",
        "                                            api_key=\"your Elastic API key\")\n",
        "document_store.write_documents(documents)\n",
        "\n",
        "print(document_store.count_documents())\n",
        "print(document_store.filter_documents()[:6])"
      ]
    },
    {
      "cell_type": "markdown",
      "metadata": {
        "id": "Grag46TJUdfo"
      },
      "source": [
        "### Baseline: Pipeline with Retrievers running one after another"
      ]
    },
    {
      "cell_type": "code",
      "execution_count": 14,
      "metadata": {
        "colab": {
          "base_uri": "https://localhost:8080/",
          "height": 769
        },
        "id": "Qkax5zb4uEnG",
        "outputId": "149bd5bc-7d56-4cf4-e56b-75f772b157df"
      },
      "outputs": [
        {
          "data": {
            "text/html": [
              "<pre style=\"white-space:pre;overflow-x:auto;line-height:normal;font-family:Menlo,'DejaVu Sans Mono',consolas,'Courier New',monospace\"><span style=\"font-weight: bold\">{</span>\n",
              "    <span style=\"color: #008000; text-decoration-color: #008000\">'document_joiner'</span>: <span style=\"font-weight: bold\">{</span>\n",
              "        <span style=\"color: #008000; text-decoration-color: #008000\">'documents'</span>: <span style=\"font-weight: bold\">[</span>\n",
              "            <span style=\"color: #800080; text-decoration-color: #800080; font-weight: bold\">Document</span><span style=\"font-weight: bold\">(</span><span style=\"color: #808000; text-decoration-color: #808000\">id</span>=<span style=\"color: #800080; text-decoration-color: #800080\">76f7ac287e02cf5972db85446efcc230b7a4f0d8988fc325ec15b1c4d8188eb5</span>, content: <span style=\"color: #008000; text-decoration-color: #008000\">'The capital of </span>\n",
              "<span style=\"color: #008000; text-decoration-color: #008000\">Spain is Madrid 2'</span>, score: <span style=\"color: #008080; text-decoration-color: #008080; font-weight: bold\">0.6654567</span>, embedding: vector of size <span style=\"color: #008080; text-decoration-color: #008080; font-weight: bold\">768</span><span style=\"font-weight: bold\">)</span>,\n",
              "            <span style=\"color: #800080; text-decoration-color: #800080; font-weight: bold\">Document</span><span style=\"font-weight: bold\">(</span><span style=\"color: #808000; text-decoration-color: #808000\">id</span>=<span style=\"color: #800080; text-decoration-color: #800080\">81a55c519cd78fbe2eedf0d632cf2e256301ad42201b8be9b134eed7d5f8add6</span>, content: <span style=\"color: #008000; text-decoration-color: #008000\">'The capital of </span>\n",
              "<span style=\"color: #008000; text-decoration-color: #008000\">Spain is Madrid 10'</span>, score: <span style=\"color: #008080; text-decoration-color: #008080; font-weight: bold\">0.6654567</span>, embedding: vector of size <span style=\"color: #008080; text-decoration-color: #008080; font-weight: bold\">768</span><span style=\"font-weight: bold\">)</span>,\n",
              "            <span style=\"color: #800080; text-decoration-color: #800080; font-weight: bold\">Document</span><span style=\"font-weight: bold\">(</span><span style=\"color: #808000; text-decoration-color: #808000\">id</span>=<span style=\"color: #800080; text-decoration-color: #800080\">ea817c00aee30178ebbfeb70f6e2a8853931c20ea47a1977227531ba175fc336</span>, content: <span style=\"color: #008000; text-decoration-color: #008000\">'The capital of </span>\n",
              "<span style=\"color: #008000; text-decoration-color: #008000\">Spain is Madrid 12'</span>, score: <span style=\"color: #008080; text-decoration-color: #008080; font-weight: bold\">0.6654567</span>, embedding: vector of size <span style=\"color: #008080; text-decoration-color: #008080; font-weight: bold\">768</span><span style=\"font-weight: bold\">)</span>,\n",
              "            <span style=\"color: #800080; text-decoration-color: #800080; font-weight: bold\">Document</span><span style=\"font-weight: bold\">(</span><span style=\"color: #808000; text-decoration-color: #808000\">id</span>=<span style=\"color: #800080; text-decoration-color: #800080\">c43c8845ec4831d3321f94db7b256c86d1c4a4a3b077dd7acb0e826c65be7a20</span>, content: <span style=\"color: #008000; text-decoration-color: #008000\">'The capital of </span>\n",
              "<span style=\"color: #008000; text-decoration-color: #008000\">Spain is Madrid 13'</span>, score: <span style=\"color: #008080; text-decoration-color: #008080; font-weight: bold\">0.6654567</span>, embedding: vector of size <span style=\"color: #008080; text-decoration-color: #008080; font-weight: bold\">768</span><span style=\"font-weight: bold\">)</span>,\n",
              "            <span style=\"color: #800080; text-decoration-color: #800080; font-weight: bold\">Document</span><span style=\"font-weight: bold\">(</span><span style=\"color: #808000; text-decoration-color: #808000\">id</span>=<span style=\"color: #800080; text-decoration-color: #800080\">b1da49017ec07aeed322e43c714e2f06e8048990af53c6b240c4a910f8588d75</span>, content: <span style=\"color: #008000; text-decoration-color: #008000\">'The capital of </span>\n",
              "<span style=\"color: #008000; text-decoration-color: #008000\">Spain is Madrid 14'</span>, score: <span style=\"color: #008080; text-decoration-color: #008080; font-weight: bold\">0.6654567</span>, embedding: vector of size <span style=\"color: #008080; text-decoration-color: #008080; font-weight: bold\">768</span><span style=\"font-weight: bold\">)</span>,\n",
              "            <span style=\"color: #800080; text-decoration-color: #800080; font-weight: bold\">Document</span><span style=\"font-weight: bold\">(</span><span style=\"color: #808000; text-decoration-color: #808000\">id</span>=<span style=\"color: #800080; text-decoration-color: #800080\">e463016f308ca7446c7b1c2086fe0f5a7faf7fd23d1a036a1b4d7b384ca2ee0b</span>, content: <span style=\"color: #008000; text-decoration-color: #008000\">'The capital of </span>\n",
              "<span style=\"color: #008000; text-decoration-color: #008000\">Spain is Madrid 16'</span>, score: <span style=\"color: #008080; text-decoration-color: #008080; font-weight: bold\">0.6654567</span>, embedding: vector of size <span style=\"color: #008080; text-decoration-color: #008080; font-weight: bold\">768</span><span style=\"font-weight: bold\">)</span>,\n",
              "            <span style=\"color: #800080; text-decoration-color: #800080; font-weight: bold\">Document</span><span style=\"font-weight: bold\">(</span><span style=\"color: #808000; text-decoration-color: #808000\">id</span>=<span style=\"color: #800080; text-decoration-color: #800080\">97d3185e7aee8f0c5fda8f10a4664ce9d41169d80cba822004016a7772df5a1f</span>, content: <span style=\"color: #008000; text-decoration-color: #008000\">'The capital of </span>\n",
              "<span style=\"color: #008000; text-decoration-color: #008000\">Spain is Madrid 18'</span>, score: <span style=\"color: #008080; text-decoration-color: #008080; font-weight: bold\">0.6654567</span>, embedding: vector of size <span style=\"color: #008080; text-decoration-color: #008080; font-weight: bold\">768</span><span style=\"font-weight: bold\">)</span>,\n",
              "            <span style=\"color: #800080; text-decoration-color: #800080; font-weight: bold\">Document</span><span style=\"font-weight: bold\">(</span><span style=\"color: #808000; text-decoration-color: #808000\">id</span>=<span style=\"color: #800080; text-decoration-color: #800080\">5c41d72973050af64e932b8930982158cb2447bcba45d83c95f9b2a6bfa448f6</span>, content: <span style=\"color: #008000; text-decoration-color: #008000\">'The capital of </span>\n",
              "<span style=\"color: #008000; text-decoration-color: #008000\">Spain is Madrid 22'</span>, score: <span style=\"color: #008080; text-decoration-color: #008080; font-weight: bold\">0.6654567</span>, embedding: vector of size <span style=\"color: #008080; text-decoration-color: #008080; font-weight: bold\">768</span><span style=\"font-weight: bold\">)</span>,\n",
              "            <span style=\"color: #800080; text-decoration-color: #800080; font-weight: bold\">Document</span><span style=\"font-weight: bold\">(</span><span style=\"color: #808000; text-decoration-color: #808000\">id</span>=<span style=\"color: #800080; text-decoration-color: #800080\">18b8a234a362a7f23ec85ca2490ca076f3a685ac2f54dcc51fc0dc08ce01ec48</span>, content: <span style=\"color: #008000; text-decoration-color: #008000\">'The capital of </span>\n",
              "<span style=\"color: #008000; text-decoration-color: #008000\">Spain is Madrid 28'</span>, score: <span style=\"color: #008080; text-decoration-color: #008080; font-weight: bold\">0.6654567</span>, embedding: vector of size <span style=\"color: #008080; text-decoration-color: #008080; font-weight: bold\">768</span><span style=\"font-weight: bold\">)</span>,\n",
              "            <span style=\"color: #800080; text-decoration-color: #800080; font-weight: bold\">Document</span><span style=\"font-weight: bold\">(</span><span style=\"color: #808000; text-decoration-color: #808000\">id</span>=<span style=\"color: #800080; text-decoration-color: #800080\">894416844ee654aadc7b65a59e31d305ab2ff8f163d92cc8d55cc83087ab7cce</span>, content: <span style=\"color: #008000; text-decoration-color: #008000\">'The capital of </span>\n",
              "<span style=\"color: #008000; text-decoration-color: #008000\">Spain is Madrid 37'</span>, score: <span style=\"color: #008080; text-decoration-color: #008080; font-weight: bold\">0.6654567</span>, embedding: vector of size <span style=\"color: #008080; text-decoration-color: #008080; font-weight: bold\">768</span><span style=\"font-weight: bold\">)</span>,\n",
              "            <span style=\"color: #800080; text-decoration-color: #800080; font-weight: bold\">Document</span><span style=\"font-weight: bold\">(</span><span style=\"color: #808000; text-decoration-color: #808000\">id</span>=<span style=\"color: #800080; text-decoration-color: #800080\">fb2394dc1f7ad21a80b143c423de21a4ce53ce785de1236331a28615dd3ba3e2</span>, content: <span style=\"color: #008000; text-decoration-color: #008000\">'The capital of </span>\n",
              "<span style=\"color: #008000; text-decoration-color: #008000\">Spain is Madrid 194'</span>, score: <span style=\"color: #008080; text-decoration-color: #008080; font-weight: bold\">0.47077772</span>, embedding: vector of size <span style=\"color: #008080; text-decoration-color: #008080; font-weight: bold\">768</span><span style=\"font-weight: bold\">)</span>,\n",
              "            <span style=\"color: #800080; text-decoration-color: #800080; font-weight: bold\">Document</span><span style=\"font-weight: bold\">(</span><span style=\"color: #808000; text-decoration-color: #808000\">id</span>=<span style=\"color: #800080; text-decoration-color: #800080\">f8de88083f17f5011d81b5ac47366c3a31bb2a00d11fd67d0e9244f8579401c8</span>, content: <span style=\"color: #008000; text-decoration-color: #008000\">'The capital of </span>\n",
              "<span style=\"color: #008000; text-decoration-color: #008000\">Italy is Rome 141'</span>, score: <span style=\"color: #008080; text-decoration-color: #008080; font-weight: bold\">0.47066435</span>, embedding: vector of size <span style=\"color: #008080; text-decoration-color: #008080; font-weight: bold\">768</span><span style=\"font-weight: bold\">)</span>,\n",
              "            <span style=\"color: #800080; text-decoration-color: #800080; font-weight: bold\">Document</span><span style=\"font-weight: bold\">(</span><span style=\"color: #808000; text-decoration-color: #808000\">id</span>=<span style=\"color: #800080; text-decoration-color: #800080\">a5b9809f86b2260ff622077d366ac2072d9d2f9c6603db62111578cbc53738c6</span>, content: <span style=\"color: #008000; text-decoration-color: #008000\">'The capital of </span>\n",
              "<span style=\"color: #008000; text-decoration-color: #008000\">Spain is Madrid 538'</span>, score: <span style=\"color: #008080; text-decoration-color: #008080; font-weight: bold\">0.470319925</span>, embedding: vector of size <span style=\"color: #008080; text-decoration-color: #008080; font-weight: bold\">768</span><span style=\"font-weight: bold\">)</span>,\n",
              "            <span style=\"color: #800080; text-decoration-color: #800080; font-weight: bold\">Document</span><span style=\"font-weight: bold\">(</span><span style=\"color: #808000; text-decoration-color: #808000\">id</span>=<span style=\"color: #800080; text-decoration-color: #800080\">b3331a607a68e5cdf00857b31d5e48ad2dd1b3d3d63a32748938d381e6540146</span>, content: <span style=\"color: #008000; text-decoration-color: #008000\">'The capital of </span>\n",
              "<span style=\"color: #008000; text-decoration-color: #008000\">Spain is Madrid 118'</span>, score: <span style=\"color: #008080; text-decoration-color: #008080; font-weight: bold\">0.470275225</span>, embedding: vector of size <span style=\"color: #008080; text-decoration-color: #008080; font-weight: bold\">768</span><span style=\"font-weight: bold\">)</span>,\n",
              "            <span style=\"color: #800080; text-decoration-color: #800080; font-weight: bold\">Document</span><span style=\"font-weight: bold\">(</span><span style=\"color: #808000; text-decoration-color: #808000\">id</span>=<span style=\"color: #800080; text-decoration-color: #800080\">3f510b7d9f4b8e8837396ecad9457ae169d38396d5385bff6eb6dd5fbcb3c75e</span>, content: <span style=\"color: #008000; text-decoration-color: #008000\">'The capital of </span>\n",
              "<span style=\"color: #008000; text-decoration-color: #008000\">Italy is Rome 603'</span>, score: <span style=\"color: #008080; text-decoration-color: #008080; font-weight: bold\">0.4701038</span>, embedding: vector of size <span style=\"color: #008080; text-decoration-color: #008080; font-weight: bold\">768</span><span style=\"font-weight: bold\">)</span>,\n",
              "            <span style=\"color: #800080; text-decoration-color: #800080; font-weight: bold\">Document</span><span style=\"font-weight: bold\">(</span><span style=\"color: #808000; text-decoration-color: #808000\">id</span>=<span style=\"color: #800080; text-decoration-color: #800080\">66118fdd45b5b2f3fff2aa13d28b706efe4d3d239d11d7a335485d1f02da2eaf</span>, content: <span style=\"color: #008000; text-decoration-color: #008000\">'The capital of </span>\n",
              "<span style=\"color: #008000; text-decoration-color: #008000\">Italy is Rome 612'</span>, score: <span style=\"color: #008080; text-decoration-color: #008080; font-weight: bold\">0.4700622</span>, embedding: vector of size <span style=\"color: #008080; text-decoration-color: #008080; font-weight: bold\">768</span><span style=\"font-weight: bold\">)</span>,\n",
              "            <span style=\"color: #800080; text-decoration-color: #800080; font-weight: bold\">Document</span><span style=\"font-weight: bold\">(</span><span style=\"color: #808000; text-decoration-color: #808000\">id</span>=<span style=\"color: #800080; text-decoration-color: #800080\">651529b836953ffd40a8620b2a34390fd627fbf3880ea740233a2f1974cfdda9</span>, content: <span style=\"color: #008000; text-decoration-color: #008000\">'The capital of </span>\n",
              "<span style=\"color: #008000; text-decoration-color: #008000\">Italy is Rome 489'</span>, score: <span style=\"color: #008080; text-decoration-color: #008080; font-weight: bold\">0.47003627</span>, embedding: vector of size <span style=\"color: #008080; text-decoration-color: #008080; font-weight: bold\">768</span><span style=\"font-weight: bold\">)</span>,\n",
              "            <span style=\"color: #800080; text-decoration-color: #800080; font-weight: bold\">Document</span><span style=\"font-weight: bold\">(</span><span style=\"color: #808000; text-decoration-color: #808000\">id</span>=<span style=\"color: #800080; text-decoration-color: #800080\">6713ff1da7fece0bf2b16526aedd7f4044cf75a9be4928a85fade9c2446cded2</span>, content: <span style=\"color: #008000; text-decoration-color: #008000\">'The capital of </span>\n",
              "<span style=\"color: #008000; text-decoration-color: #008000\">Germany is Berlin 735'</span>, score: <span style=\"color: #008080; text-decoration-color: #008080; font-weight: bold\">0.469990015</span>, embedding: vector of size <span style=\"color: #008080; text-decoration-color: #008080; font-weight: bold\">768</span><span style=\"font-weight: bold\">)</span>,\n",
              "            <span style=\"color: #800080; text-decoration-color: #800080; font-weight: bold\">Document</span><span style=\"font-weight: bold\">(</span><span style=\"color: #808000; text-decoration-color: #808000\">id</span>=<span style=\"color: #800080; text-decoration-color: #800080\">56cdccc03a89a1140bc3d58afb1fd945460e9ddb78858b893f96c3da9f3f6318</span>, content: <span style=\"color: #008000; text-decoration-color: #008000\">'The capital of </span>\n",
              "<span style=\"color: #008000; text-decoration-color: #008000\">France is Paris 726'</span>, score: <span style=\"color: #008080; text-decoration-color: #008080; font-weight: bold\">0.4698249</span>, embedding: vector of size <span style=\"color: #008080; text-decoration-color: #008080; font-weight: bold\">768</span><span style=\"font-weight: bold\">)</span>,\n",
              "            <span style=\"color: #800080; text-decoration-color: #800080; font-weight: bold\">Document</span><span style=\"font-weight: bold\">(</span><span style=\"color: #808000; text-decoration-color: #808000\">id</span>=<span style=\"color: #800080; text-decoration-color: #800080\">1bfa297e32fb9d38ec2ecc59409937b910ce3cc9dab110ca40964fe00ce5dd5f</span>, content: <span style=\"color: #008000; text-decoration-color: #008000\">'The capital of </span>\n",
              "<span style=\"color: #008000; text-decoration-color: #008000\">Spain is Madrid 977'</span>, score: <span style=\"color: #008080; text-decoration-color: #008080; font-weight: bold\">0.46978408</span>, embedding: vector of size <span style=\"color: #008080; text-decoration-color: #008080; font-weight: bold\">768</span><span style=\"font-weight: bold\">)</span>\n",
              "        <span style=\"font-weight: bold\">]</span>\n",
              "    <span style=\"font-weight: bold\">}</span>\n",
              "<span style=\"font-weight: bold\">}</span>\n",
              "</pre>\n"
            ],
            "text/plain": [
              "\u001b[1m{\u001b[0m\n",
              "    \u001b[32m'document_joiner'\u001b[0m: \u001b[1m{\u001b[0m\n",
              "        \u001b[32m'documents'\u001b[0m: \u001b[1m[\u001b[0m\n",
              "            \u001b[1;35mDocument\u001b[0m\u001b[1m(\u001b[0m\u001b[33mid\u001b[0m=\u001b[35m76f7ac287e02cf5972db85446efcc230b7a4f0d8988fc325ec15b1c4d8188eb5\u001b[0m, content: \u001b[32m'The capital of \u001b[0m\n",
              "\u001b[32mSpain is Madrid 2'\u001b[0m, score: \u001b[1;36m0.6654567\u001b[0m, embedding: vector of size \u001b[1;36m768\u001b[0m\u001b[1m)\u001b[0m,\n",
              "            \u001b[1;35mDocument\u001b[0m\u001b[1m(\u001b[0m\u001b[33mid\u001b[0m=\u001b[35m81a55c519cd78fbe2eedf0d632cf2e256301ad42201b8be9b134eed7d5f8add6\u001b[0m, content: \u001b[32m'The capital of \u001b[0m\n",
              "\u001b[32mSpain is Madrid 10'\u001b[0m, score: \u001b[1;36m0.6654567\u001b[0m, embedding: vector of size \u001b[1;36m768\u001b[0m\u001b[1m)\u001b[0m,\n",
              "            \u001b[1;35mDocument\u001b[0m\u001b[1m(\u001b[0m\u001b[33mid\u001b[0m=\u001b[35mea817c00aee30178ebbfeb70f6e2a8853931c20ea47a1977227531ba175fc336\u001b[0m, content: \u001b[32m'The capital of \u001b[0m\n",
              "\u001b[32mSpain is Madrid 12'\u001b[0m, score: \u001b[1;36m0.6654567\u001b[0m, embedding: vector of size \u001b[1;36m768\u001b[0m\u001b[1m)\u001b[0m,\n",
              "            \u001b[1;35mDocument\u001b[0m\u001b[1m(\u001b[0m\u001b[33mid\u001b[0m=\u001b[35mc43c8845ec4831d3321f94db7b256c86d1c4a4a3b077dd7acb0e826c65be7a20\u001b[0m, content: \u001b[32m'The capital of \u001b[0m\n",
              "\u001b[32mSpain is Madrid 13'\u001b[0m, score: \u001b[1;36m0.6654567\u001b[0m, embedding: vector of size \u001b[1;36m768\u001b[0m\u001b[1m)\u001b[0m,\n",
              "            \u001b[1;35mDocument\u001b[0m\u001b[1m(\u001b[0m\u001b[33mid\u001b[0m=\u001b[35mb1da49017ec07aeed322e43c714e2f06e8048990af53c6b240c4a910f8588d75\u001b[0m, content: \u001b[32m'The capital of \u001b[0m\n",
              "\u001b[32mSpain is Madrid 14'\u001b[0m, score: \u001b[1;36m0.6654567\u001b[0m, embedding: vector of size \u001b[1;36m768\u001b[0m\u001b[1m)\u001b[0m,\n",
              "            \u001b[1;35mDocument\u001b[0m\u001b[1m(\u001b[0m\u001b[33mid\u001b[0m=\u001b[35me463016f308ca7446c7b1c2086fe0f5a7faf7fd23d1a036a1b4d7b384ca2ee0b\u001b[0m, content: \u001b[32m'The capital of \u001b[0m\n",
              "\u001b[32mSpain is Madrid 16'\u001b[0m, score: \u001b[1;36m0.6654567\u001b[0m, embedding: vector of size \u001b[1;36m768\u001b[0m\u001b[1m)\u001b[0m,\n",
              "            \u001b[1;35mDocument\u001b[0m\u001b[1m(\u001b[0m\u001b[33mid\u001b[0m=\u001b[35m97d3185e7aee8f0c5fda8f10a4664ce9d41169d80cba822004016a7772df5a1f\u001b[0m, content: \u001b[32m'The capital of \u001b[0m\n",
              "\u001b[32mSpain is Madrid 18'\u001b[0m, score: \u001b[1;36m0.6654567\u001b[0m, embedding: vector of size \u001b[1;36m768\u001b[0m\u001b[1m)\u001b[0m,\n",
              "            \u001b[1;35mDocument\u001b[0m\u001b[1m(\u001b[0m\u001b[33mid\u001b[0m=\u001b[35m5c41d72973050af64e932b8930982158cb2447bcba45d83c95f9b2a6bfa448f6\u001b[0m, content: \u001b[32m'The capital of \u001b[0m\n",
              "\u001b[32mSpain is Madrid 22'\u001b[0m, score: \u001b[1;36m0.6654567\u001b[0m, embedding: vector of size \u001b[1;36m768\u001b[0m\u001b[1m)\u001b[0m,\n",
              "            \u001b[1;35mDocument\u001b[0m\u001b[1m(\u001b[0m\u001b[33mid\u001b[0m=\u001b[35m18b8a234a362a7f23ec85ca2490ca076f3a685ac2f54dcc51fc0dc08ce01ec48\u001b[0m, content: \u001b[32m'The capital of \u001b[0m\n",
              "\u001b[32mSpain is Madrid 28'\u001b[0m, score: \u001b[1;36m0.6654567\u001b[0m, embedding: vector of size \u001b[1;36m768\u001b[0m\u001b[1m)\u001b[0m,\n",
              "            \u001b[1;35mDocument\u001b[0m\u001b[1m(\u001b[0m\u001b[33mid\u001b[0m=\u001b[35m894416844ee654aadc7b65a59e31d305ab2ff8f163d92cc8d55cc83087ab7cce\u001b[0m, content: \u001b[32m'The capital of \u001b[0m\n",
              "\u001b[32mSpain is Madrid 37'\u001b[0m, score: \u001b[1;36m0.6654567\u001b[0m, embedding: vector of size \u001b[1;36m768\u001b[0m\u001b[1m)\u001b[0m,\n",
              "            \u001b[1;35mDocument\u001b[0m\u001b[1m(\u001b[0m\u001b[33mid\u001b[0m=\u001b[35mfb2394dc1f7ad21a80b143c423de21a4ce53ce785de1236331a28615dd3ba3e2\u001b[0m, content: \u001b[32m'The capital of \u001b[0m\n",
              "\u001b[32mSpain is Madrid 194'\u001b[0m, score: \u001b[1;36m0.47077772\u001b[0m, embedding: vector of size \u001b[1;36m768\u001b[0m\u001b[1m)\u001b[0m,\n",
              "            \u001b[1;35mDocument\u001b[0m\u001b[1m(\u001b[0m\u001b[33mid\u001b[0m=\u001b[35mf8de88083f17f5011d81b5ac47366c3a31bb2a00d11fd67d0e9244f8579401c8\u001b[0m, content: \u001b[32m'The capital of \u001b[0m\n",
              "\u001b[32mItaly is Rome 141'\u001b[0m, score: \u001b[1;36m0.47066435\u001b[0m, embedding: vector of size \u001b[1;36m768\u001b[0m\u001b[1m)\u001b[0m,\n",
              "            \u001b[1;35mDocument\u001b[0m\u001b[1m(\u001b[0m\u001b[33mid\u001b[0m=\u001b[35ma5b9809f86b2260ff622077d366ac2072d9d2f9c6603db62111578cbc53738c6\u001b[0m, content: \u001b[32m'The capital of \u001b[0m\n",
              "\u001b[32mSpain is Madrid 538'\u001b[0m, score: \u001b[1;36m0.470319925\u001b[0m, embedding: vector of size \u001b[1;36m768\u001b[0m\u001b[1m)\u001b[0m,\n",
              "            \u001b[1;35mDocument\u001b[0m\u001b[1m(\u001b[0m\u001b[33mid\u001b[0m=\u001b[35mb3331a607a68e5cdf00857b31d5e48ad2dd1b3d3d63a32748938d381e6540146\u001b[0m, content: \u001b[32m'The capital of \u001b[0m\n",
              "\u001b[32mSpain is Madrid 118'\u001b[0m, score: \u001b[1;36m0.470275225\u001b[0m, embedding: vector of size \u001b[1;36m768\u001b[0m\u001b[1m)\u001b[0m,\n",
              "            \u001b[1;35mDocument\u001b[0m\u001b[1m(\u001b[0m\u001b[33mid\u001b[0m=\u001b[35m3f510b7d9f4b8e8837396ecad9457ae169d38396d5385bff6eb6dd5fbcb3c75e\u001b[0m, content: \u001b[32m'The capital of \u001b[0m\n",
              "\u001b[32mItaly is Rome 603'\u001b[0m, score: \u001b[1;36m0.4701038\u001b[0m, embedding: vector of size \u001b[1;36m768\u001b[0m\u001b[1m)\u001b[0m,\n",
              "            \u001b[1;35mDocument\u001b[0m\u001b[1m(\u001b[0m\u001b[33mid\u001b[0m=\u001b[35m66118fdd45b5b2f3fff2aa13d28b706efe4d3d239d11d7a335485d1f02da2eaf\u001b[0m, content: \u001b[32m'The capital of \u001b[0m\n",
              "\u001b[32mItaly is Rome 612'\u001b[0m, score: \u001b[1;36m0.4700622\u001b[0m, embedding: vector of size \u001b[1;36m768\u001b[0m\u001b[1m)\u001b[0m,\n",
              "            \u001b[1;35mDocument\u001b[0m\u001b[1m(\u001b[0m\u001b[33mid\u001b[0m=\u001b[35m651529b836953ffd40a8620b2a34390fd627fbf3880ea740233a2f1974cfdda9\u001b[0m, content: \u001b[32m'The capital of \u001b[0m\n",
              "\u001b[32mItaly is Rome 489'\u001b[0m, score: \u001b[1;36m0.47003627\u001b[0m, embedding: vector of size \u001b[1;36m768\u001b[0m\u001b[1m)\u001b[0m,\n",
              "            \u001b[1;35mDocument\u001b[0m\u001b[1m(\u001b[0m\u001b[33mid\u001b[0m=\u001b[35m6713ff1da7fece0bf2b16526aedd7f4044cf75a9be4928a85fade9c2446cded2\u001b[0m, content: \u001b[32m'The capital of \u001b[0m\n",
              "\u001b[32mGermany is Berlin 735'\u001b[0m, score: \u001b[1;36m0.469990015\u001b[0m, embedding: vector of size \u001b[1;36m768\u001b[0m\u001b[1m)\u001b[0m,\n",
              "            \u001b[1;35mDocument\u001b[0m\u001b[1m(\u001b[0m\u001b[33mid\u001b[0m=\u001b[35m56cdccc03a89a1140bc3d58afb1fd945460e9ddb78858b893f96c3da9f3f6318\u001b[0m, content: \u001b[32m'The capital of \u001b[0m\n",
              "\u001b[32mFrance is Paris 726'\u001b[0m, score: \u001b[1;36m0.4698249\u001b[0m, embedding: vector of size \u001b[1;36m768\u001b[0m\u001b[1m)\u001b[0m,\n",
              "            \u001b[1;35mDocument\u001b[0m\u001b[1m(\u001b[0m\u001b[33mid\u001b[0m=\u001b[35m1bfa297e32fb9d38ec2ecc59409937b910ce3cc9dab110ca40964fe00ce5dd5f\u001b[0m, content: \u001b[32m'The capital of \u001b[0m\n",
              "\u001b[32mSpain is Madrid 977'\u001b[0m, score: \u001b[1;36m0.46978408\u001b[0m, embedding: vector of size \u001b[1;36m768\u001b[0m\u001b[1m)\u001b[0m\n",
              "        \u001b[1m]\u001b[0m\n",
              "    \u001b[1m}\u001b[0m\n",
              "\u001b[1m}\u001b[0m\n"
            ]
          },
          "metadata": {},
          "output_type": "display_data"
        },
        {
          "data": {
            "text/html": [
              "<pre style=\"white-space:pre;overflow-x:auto;line-height:normal;font-family:Menlo,'DejaVu Sans Mono',consolas,'Courier New',monospace\">Time taken for <span style=\"color: #008080; text-decoration-color: #008080; font-weight: bold\">100</span> non concurrent calls: <span style=\"color: #008080; text-decoration-color: #008080; font-weight: bold\">21.74193024635315</span> seconds\n",
              "</pre>\n"
            ],
            "text/plain": [
              "Time taken for \u001b[1;36m100\u001b[0m non concurrent calls: \u001b[1;36m21.74193024635315\u001b[0m seconds\n"
            ]
          },
          "metadata": {},
          "output_type": "display_data"
        }
      ],
      "source": [
        "from haystack_integrations.components.retrievers.elasticsearch import ElasticsearchBM25Retriever, ElasticsearchEmbeddingRetriever\n",
        "from haystack import Pipeline\n",
        "from haystack.components.joiners import DocumentJoiner\n",
        "\n",
        "\n",
        "\n",
        "embedding_retriever = ElasticsearchEmbeddingRetriever(document_store=document_store)\n",
        "bm25_retriever = ElasticsearchBM25Retriever(document_store=document_store)\n",
        "document_joiner = DocumentJoiner(join_mode=\"merge\")\n",
        "\n",
        "hybrid_retrieval = Pipeline()\n",
        "hybrid_retrieval.add_component(\"embedding_retriever\", embedding_retriever)\n",
        "hybrid_retrieval.add_component(\"bm25_retriever\", bm25_retriever)\n",
        "hybrid_retrieval.add_component(\"document_joiner\", document_joiner)\n",
        "\n",
        "hybrid_retrieval.connect(\"bm25_retriever\", \"document_joiner\")\n",
        "hybrid_retrieval.connect(\"embedding_retriever\", \"document_joiner\")\n",
        "\n",
        "query = \"Madrid\"\n",
        "query_embedding = [0.1] * 768\n",
        "\n",
        "\n",
        "start = time.time()\n",
        "n = 100\n",
        "for i in range(n):\n",
        "  result = hybrid_retrieval.run(\n",
        "          {\"bm25_retriever\": {\"query\": query}, \"embedding_retriever\": {\"query_embedding\": query_embedding}}\n",
        "      )\n",
        "\n",
        "end = time.time()\n",
        "print(result)\n",
        "print(f\"Time taken for {n} non concurrent calls: {end - start} seconds\")"
      ]
    },
    {
      "cell_type": "markdown",
      "metadata": {
        "id": "MXpYIrJ6U5_e"
      },
      "source": [
        "### Optimisation: Pipeline with Retrievers running concurrently\n",
        "\n",
        "We wrap multiple retrievers into a single component that internally will run them concurrently in different threads. To simplify the threads orchestration, we use the `to_thread` function from `asyncio`. The component itself will stay synchronous, exposing the usual `run` method."
      ]
    },
    {
      "cell_type": "markdown",
      "metadata": {
        "id": "vDujbLZxVK2B"
      },
      "source": [
        "#### ConcurrentRetrievers component\n",
        "\n",
        "- This component expects a list of retrievers and names as initialization parameters.\n",
        "\n",
        "- The `_arun` method is an async method, where concurrent execution takes place. It creates a thread for each retriever and waits for all threads to finish. Then the results are collected, aggregated, and returned.\n",
        "\n",
        "- The `run` method is synchronous (as expected by the Haystack pipeline) and calls the `_arun` method using `asyncio.run`.\n",
        "\n",
        "- Note: since different types of retrievers accept different query parameters in their `run` method (`query`, `query_embedding`, `sparse_query_embedding`), `inspect.signature` is used to determine if the retriever accepts a specific parameter."
      ]
    },
    {
      "cell_type": "code",
      "execution_count": 15,
      "metadata": {
        "id": "YoDnJCt4Exd_"
      },
      "outputs": [],
      "source": [
        "from haystack import Pipeline\n",
        "from haystack.components.joiners import DocumentJoiner\n",
        "from haystack.dataclasses import SparseEmbedding\n",
        "from haystack import component, Document\n",
        "from haystack.core.component import Component\n",
        "from typing import List, Optional, Dict, Any\n",
        "import asyncio\n",
        "import inspect\n",
        "\n",
        "\n",
        "@component\n",
        "class ConcurrentRetrievers:\n",
        "    def __init__(self, retrievers: List[Component], names: Optional[List[str]] = None):\n",
        "        self.retrievers = retrievers\n",
        "        if names is None:\n",
        "            names = [f\"retriever_{i}\" for i in range(len(retrievers))]\n",
        "        self.names = names\n",
        "\n",
        "        output_types = {k: List[Document] for k in names}\n",
        "        component.set_output_types(self, **output_types)\n",
        "\n",
        "    async def _arun(self, **kwargs):\n",
        "        \"\"\"\n",
        "        Asynchrounous method to run the retrievers concurrently.\n",
        "        \"\"\"\n",
        "\n",
        "        coroutines = []\n",
        "        for retriever in self.retrievers:\n",
        "            retriever_params = inspect.signature(getattr(retriever, \"run\")).parameters\n",
        "            selected_params = {\"top_k\": kwargs.get(\"top_k\"), \"filters\": kwargs.get(\"filters\")}\n",
        "            # each retriever accepts different parameters (keyword/BM25 retriever, embedding retriever, hybrid retriever)\n",
        "            for query_param in [\"query\", \"query_embedding\", \"sparse_query_embedding\"]:\n",
        "                if query_param in retriever_params:\n",
        "                    selected_params[query_param] = kwargs.get(query_param)\n",
        "            # the retrievers run in separate threads\n",
        "            coroutines.append(asyncio.to_thread(retriever.run, **selected_params))\n",
        "\n",
        "        results = await asyncio.gather(*coroutines)\n",
        "\n",
        "        organized_results = {}\n",
        "        for retriever_name, res_ in zip(self.names, results):\n",
        "            organized_results[retriever_name] = res_[\"documents\"]\n",
        "        return organized_results\n",
        "\n",
        "    def run(\n",
        "        self,\n",
        "        query: Optional[str] = None,\n",
        "        query_embedding: Optional[List[float]] = None,\n",
        "        sparse_query_embedding: Optional[SparseEmbedding] = None,\n",
        "        filters: Optional[Dict[str, Any]] = None,\n",
        "        top_k: Optional[int] = None,\n",
        "    ):\n",
        "        \"\"\"\n",
        "        Synchronous run method that can be integrated into a classic synchronous pipeline.\n",
        "        \"\"\"\n",
        "        results = asyncio.run(\n",
        "            self._arun(\n",
        "                query=query,\n",
        "                query_embedding=query_embedding,\n",
        "                sparse_query_embedding=sparse_query_embedding,\n",
        "                filters=filters,\n",
        "                top_k=top_k,\n",
        "            )\n",
        "        )\n",
        "        return results\n",
        "\n",
        "# serialization/deserialization methods can be implemented like\n",
        "# in ConcurrentGenerators component..."
      ]
    },
    {
      "cell_type": "markdown",
      "metadata": {
        "id": "Q0KgQbPyVUfY"
      },
      "source": [
        "#### Pipeline with ConcurrentRetrievers component"
      ]
    },
    {
      "cell_type": "code",
      "execution_count": 17,
      "metadata": {
        "colab": {
          "base_uri": "https://localhost:8080/",
          "height": 769
        },
        "id": "RHRjgeJJGLtH",
        "outputId": "6144cd2f-9039-417d-a8ae-0cea21426ed0"
      },
      "outputs": [
        {
          "data": {
            "text/html": [
              "<pre style=\"white-space:pre;overflow-x:auto;line-height:normal;font-family:Menlo,'DejaVu Sans Mono',consolas,'Courier New',monospace\"><span style=\"font-weight: bold\">{</span>\n",
              "    <span style=\"color: #008000; text-decoration-color: #008000\">'document_joiner'</span>: <span style=\"font-weight: bold\">{</span>\n",
              "        <span style=\"color: #008000; text-decoration-color: #008000\">'documents'</span>: <span style=\"font-weight: bold\">[</span>\n",
              "            <span style=\"color: #800080; text-decoration-color: #800080; font-weight: bold\">Document</span><span style=\"font-weight: bold\">(</span><span style=\"color: #808000; text-decoration-color: #808000\">id</span>=<span style=\"color: #800080; text-decoration-color: #800080\">76f7ac287e02cf5972db85446efcc230b7a4f0d8988fc325ec15b1c4d8188eb5</span>, content: <span style=\"color: #008000; text-decoration-color: #008000\">'The capital of </span>\n",
              "<span style=\"color: #008000; text-decoration-color: #008000\">Spain is Madrid 2'</span>, score: <span style=\"color: #008080; text-decoration-color: #008080; font-weight: bold\">0.6654567</span>, embedding: vector of size <span style=\"color: #008080; text-decoration-color: #008080; font-weight: bold\">768</span><span style=\"font-weight: bold\">)</span>,\n",
              "            <span style=\"color: #800080; text-decoration-color: #800080; font-weight: bold\">Document</span><span style=\"font-weight: bold\">(</span><span style=\"color: #808000; text-decoration-color: #808000\">id</span>=<span style=\"color: #800080; text-decoration-color: #800080\">81a55c519cd78fbe2eedf0d632cf2e256301ad42201b8be9b134eed7d5f8add6</span>, content: <span style=\"color: #008000; text-decoration-color: #008000\">'The capital of </span>\n",
              "<span style=\"color: #008000; text-decoration-color: #008000\">Spain is Madrid 10'</span>, score: <span style=\"color: #008080; text-decoration-color: #008080; font-weight: bold\">0.6654567</span>, embedding: vector of size <span style=\"color: #008080; text-decoration-color: #008080; font-weight: bold\">768</span><span style=\"font-weight: bold\">)</span>,\n",
              "            <span style=\"color: #800080; text-decoration-color: #800080; font-weight: bold\">Document</span><span style=\"font-weight: bold\">(</span><span style=\"color: #808000; text-decoration-color: #808000\">id</span>=<span style=\"color: #800080; text-decoration-color: #800080\">ea817c00aee30178ebbfeb70f6e2a8853931c20ea47a1977227531ba175fc336</span>, content: <span style=\"color: #008000; text-decoration-color: #008000\">'The capital of </span>\n",
              "<span style=\"color: #008000; text-decoration-color: #008000\">Spain is Madrid 12'</span>, score: <span style=\"color: #008080; text-decoration-color: #008080; font-weight: bold\">0.6654567</span>, embedding: vector of size <span style=\"color: #008080; text-decoration-color: #008080; font-weight: bold\">768</span><span style=\"font-weight: bold\">)</span>,\n",
              "            <span style=\"color: #800080; text-decoration-color: #800080; font-weight: bold\">Document</span><span style=\"font-weight: bold\">(</span><span style=\"color: #808000; text-decoration-color: #808000\">id</span>=<span style=\"color: #800080; text-decoration-color: #800080\">c43c8845ec4831d3321f94db7b256c86d1c4a4a3b077dd7acb0e826c65be7a20</span>, content: <span style=\"color: #008000; text-decoration-color: #008000\">'The capital of </span>\n",
              "<span style=\"color: #008000; text-decoration-color: #008000\">Spain is Madrid 13'</span>, score: <span style=\"color: #008080; text-decoration-color: #008080; font-weight: bold\">0.6654567</span>, embedding: vector of size <span style=\"color: #008080; text-decoration-color: #008080; font-weight: bold\">768</span><span style=\"font-weight: bold\">)</span>,\n",
              "            <span style=\"color: #800080; text-decoration-color: #800080; font-weight: bold\">Document</span><span style=\"font-weight: bold\">(</span><span style=\"color: #808000; text-decoration-color: #808000\">id</span>=<span style=\"color: #800080; text-decoration-color: #800080\">b1da49017ec07aeed322e43c714e2f06e8048990af53c6b240c4a910f8588d75</span>, content: <span style=\"color: #008000; text-decoration-color: #008000\">'The capital of </span>\n",
              "<span style=\"color: #008000; text-decoration-color: #008000\">Spain is Madrid 14'</span>, score: <span style=\"color: #008080; text-decoration-color: #008080; font-weight: bold\">0.6654567</span>, embedding: vector of size <span style=\"color: #008080; text-decoration-color: #008080; font-weight: bold\">768</span><span style=\"font-weight: bold\">)</span>,\n",
              "            <span style=\"color: #800080; text-decoration-color: #800080; font-weight: bold\">Document</span><span style=\"font-weight: bold\">(</span><span style=\"color: #808000; text-decoration-color: #808000\">id</span>=<span style=\"color: #800080; text-decoration-color: #800080\">e463016f308ca7446c7b1c2086fe0f5a7faf7fd23d1a036a1b4d7b384ca2ee0b</span>, content: <span style=\"color: #008000; text-decoration-color: #008000\">'The capital of </span>\n",
              "<span style=\"color: #008000; text-decoration-color: #008000\">Spain is Madrid 16'</span>, score: <span style=\"color: #008080; text-decoration-color: #008080; font-weight: bold\">0.6654567</span>, embedding: vector of size <span style=\"color: #008080; text-decoration-color: #008080; font-weight: bold\">768</span><span style=\"font-weight: bold\">)</span>,\n",
              "            <span style=\"color: #800080; text-decoration-color: #800080; font-weight: bold\">Document</span><span style=\"font-weight: bold\">(</span><span style=\"color: #808000; text-decoration-color: #808000\">id</span>=<span style=\"color: #800080; text-decoration-color: #800080\">97d3185e7aee8f0c5fda8f10a4664ce9d41169d80cba822004016a7772df5a1f</span>, content: <span style=\"color: #008000; text-decoration-color: #008000\">'The capital of </span>\n",
              "<span style=\"color: #008000; text-decoration-color: #008000\">Spain is Madrid 18'</span>, score: <span style=\"color: #008080; text-decoration-color: #008080; font-weight: bold\">0.6654567</span>, embedding: vector of size <span style=\"color: #008080; text-decoration-color: #008080; font-weight: bold\">768</span><span style=\"font-weight: bold\">)</span>,\n",
              "            <span style=\"color: #800080; text-decoration-color: #800080; font-weight: bold\">Document</span><span style=\"font-weight: bold\">(</span><span style=\"color: #808000; text-decoration-color: #808000\">id</span>=<span style=\"color: #800080; text-decoration-color: #800080\">5c41d72973050af64e932b8930982158cb2447bcba45d83c95f9b2a6bfa448f6</span>, content: <span style=\"color: #008000; text-decoration-color: #008000\">'The capital of </span>\n",
              "<span style=\"color: #008000; text-decoration-color: #008000\">Spain is Madrid 22'</span>, score: <span style=\"color: #008080; text-decoration-color: #008080; font-weight: bold\">0.6654567</span>, embedding: vector of size <span style=\"color: #008080; text-decoration-color: #008080; font-weight: bold\">768</span><span style=\"font-weight: bold\">)</span>,\n",
              "            <span style=\"color: #800080; text-decoration-color: #800080; font-weight: bold\">Document</span><span style=\"font-weight: bold\">(</span><span style=\"color: #808000; text-decoration-color: #808000\">id</span>=<span style=\"color: #800080; text-decoration-color: #800080\">18b8a234a362a7f23ec85ca2490ca076f3a685ac2f54dcc51fc0dc08ce01ec48</span>, content: <span style=\"color: #008000; text-decoration-color: #008000\">'The capital of </span>\n",
              "<span style=\"color: #008000; text-decoration-color: #008000\">Spain is Madrid 28'</span>, score: <span style=\"color: #008080; text-decoration-color: #008080; font-weight: bold\">0.6654567</span>, embedding: vector of size <span style=\"color: #008080; text-decoration-color: #008080; font-weight: bold\">768</span><span style=\"font-weight: bold\">)</span>,\n",
              "            <span style=\"color: #800080; text-decoration-color: #800080; font-weight: bold\">Document</span><span style=\"font-weight: bold\">(</span><span style=\"color: #808000; text-decoration-color: #808000\">id</span>=<span style=\"color: #800080; text-decoration-color: #800080\">894416844ee654aadc7b65a59e31d305ab2ff8f163d92cc8d55cc83087ab7cce</span>, content: <span style=\"color: #008000; text-decoration-color: #008000\">'The capital of </span>\n",
              "<span style=\"color: #008000; text-decoration-color: #008000\">Spain is Madrid 37'</span>, score: <span style=\"color: #008080; text-decoration-color: #008080; font-weight: bold\">0.6654567</span>, embedding: vector of size <span style=\"color: #008080; text-decoration-color: #008080; font-weight: bold\">768</span><span style=\"font-weight: bold\">)</span>,\n",
              "            <span style=\"color: #800080; text-decoration-color: #800080; font-weight: bold\">Document</span><span style=\"font-weight: bold\">(</span><span style=\"color: #808000; text-decoration-color: #808000\">id</span>=<span style=\"color: #800080; text-decoration-color: #800080\">fb2394dc1f7ad21a80b143c423de21a4ce53ce785de1236331a28615dd3ba3e2</span>, content: <span style=\"color: #008000; text-decoration-color: #008000\">'The capital of </span>\n",
              "<span style=\"color: #008000; text-decoration-color: #008000\">Spain is Madrid 194'</span>, score: <span style=\"color: #008080; text-decoration-color: #008080; font-weight: bold\">0.47077772</span>, embedding: vector of size <span style=\"color: #008080; text-decoration-color: #008080; font-weight: bold\">768</span><span style=\"font-weight: bold\">)</span>,\n",
              "            <span style=\"color: #800080; text-decoration-color: #800080; font-weight: bold\">Document</span><span style=\"font-weight: bold\">(</span><span style=\"color: #808000; text-decoration-color: #808000\">id</span>=<span style=\"color: #800080; text-decoration-color: #800080\">f8de88083f17f5011d81b5ac47366c3a31bb2a00d11fd67d0e9244f8579401c8</span>, content: <span style=\"color: #008000; text-decoration-color: #008000\">'The capital of </span>\n",
              "<span style=\"color: #008000; text-decoration-color: #008000\">Italy is Rome 141'</span>, score: <span style=\"color: #008080; text-decoration-color: #008080; font-weight: bold\">0.47066435</span>, embedding: vector of size <span style=\"color: #008080; text-decoration-color: #008080; font-weight: bold\">768</span><span style=\"font-weight: bold\">)</span>,\n",
              "            <span style=\"color: #800080; text-decoration-color: #800080; font-weight: bold\">Document</span><span style=\"font-weight: bold\">(</span><span style=\"color: #808000; text-decoration-color: #808000\">id</span>=<span style=\"color: #800080; text-decoration-color: #800080\">a5b9809f86b2260ff622077d366ac2072d9d2f9c6603db62111578cbc53738c6</span>, content: <span style=\"color: #008000; text-decoration-color: #008000\">'The capital of </span>\n",
              "<span style=\"color: #008000; text-decoration-color: #008000\">Spain is Madrid 538'</span>, score: <span style=\"color: #008080; text-decoration-color: #008080; font-weight: bold\">0.470319925</span>, embedding: vector of size <span style=\"color: #008080; text-decoration-color: #008080; font-weight: bold\">768</span><span style=\"font-weight: bold\">)</span>,\n",
              "            <span style=\"color: #800080; text-decoration-color: #800080; font-weight: bold\">Document</span><span style=\"font-weight: bold\">(</span><span style=\"color: #808000; text-decoration-color: #808000\">id</span>=<span style=\"color: #800080; text-decoration-color: #800080\">b3331a607a68e5cdf00857b31d5e48ad2dd1b3d3d63a32748938d381e6540146</span>, content: <span style=\"color: #008000; text-decoration-color: #008000\">'The capital of </span>\n",
              "<span style=\"color: #008000; text-decoration-color: #008000\">Spain is Madrid 118'</span>, score: <span style=\"color: #008080; text-decoration-color: #008080; font-weight: bold\">0.470275225</span>, embedding: vector of size <span style=\"color: #008080; text-decoration-color: #008080; font-weight: bold\">768</span><span style=\"font-weight: bold\">)</span>,\n",
              "            <span style=\"color: #800080; text-decoration-color: #800080; font-weight: bold\">Document</span><span style=\"font-weight: bold\">(</span><span style=\"color: #808000; text-decoration-color: #808000\">id</span>=<span style=\"color: #800080; text-decoration-color: #800080\">3f510b7d9f4b8e8837396ecad9457ae169d38396d5385bff6eb6dd5fbcb3c75e</span>, content: <span style=\"color: #008000; text-decoration-color: #008000\">'The capital of </span>\n",
              "<span style=\"color: #008000; text-decoration-color: #008000\">Italy is Rome 603'</span>, score: <span style=\"color: #008080; text-decoration-color: #008080; font-weight: bold\">0.4701038</span>, embedding: vector of size <span style=\"color: #008080; text-decoration-color: #008080; font-weight: bold\">768</span><span style=\"font-weight: bold\">)</span>,\n",
              "            <span style=\"color: #800080; text-decoration-color: #800080; font-weight: bold\">Document</span><span style=\"font-weight: bold\">(</span><span style=\"color: #808000; text-decoration-color: #808000\">id</span>=<span style=\"color: #800080; text-decoration-color: #800080\">66118fdd45b5b2f3fff2aa13d28b706efe4d3d239d11d7a335485d1f02da2eaf</span>, content: <span style=\"color: #008000; text-decoration-color: #008000\">'The capital of </span>\n",
              "<span style=\"color: #008000; text-decoration-color: #008000\">Italy is Rome 612'</span>, score: <span style=\"color: #008080; text-decoration-color: #008080; font-weight: bold\">0.4700622</span>, embedding: vector of size <span style=\"color: #008080; text-decoration-color: #008080; font-weight: bold\">768</span><span style=\"font-weight: bold\">)</span>,\n",
              "            <span style=\"color: #800080; text-decoration-color: #800080; font-weight: bold\">Document</span><span style=\"font-weight: bold\">(</span><span style=\"color: #808000; text-decoration-color: #808000\">id</span>=<span style=\"color: #800080; text-decoration-color: #800080\">651529b836953ffd40a8620b2a34390fd627fbf3880ea740233a2f1974cfdda9</span>, content: <span style=\"color: #008000; text-decoration-color: #008000\">'The capital of </span>\n",
              "<span style=\"color: #008000; text-decoration-color: #008000\">Italy is Rome 489'</span>, score: <span style=\"color: #008080; text-decoration-color: #008080; font-weight: bold\">0.47003627</span>, embedding: vector of size <span style=\"color: #008080; text-decoration-color: #008080; font-weight: bold\">768</span><span style=\"font-weight: bold\">)</span>,\n",
              "            <span style=\"color: #800080; text-decoration-color: #800080; font-weight: bold\">Document</span><span style=\"font-weight: bold\">(</span><span style=\"color: #808000; text-decoration-color: #808000\">id</span>=<span style=\"color: #800080; text-decoration-color: #800080\">6713ff1da7fece0bf2b16526aedd7f4044cf75a9be4928a85fade9c2446cded2</span>, content: <span style=\"color: #008000; text-decoration-color: #008000\">'The capital of </span>\n",
              "<span style=\"color: #008000; text-decoration-color: #008000\">Germany is Berlin 735'</span>, score: <span style=\"color: #008080; text-decoration-color: #008080; font-weight: bold\">0.469990015</span>, embedding: vector of size <span style=\"color: #008080; text-decoration-color: #008080; font-weight: bold\">768</span><span style=\"font-weight: bold\">)</span>,\n",
              "            <span style=\"color: #800080; text-decoration-color: #800080; font-weight: bold\">Document</span><span style=\"font-weight: bold\">(</span><span style=\"color: #808000; text-decoration-color: #808000\">id</span>=<span style=\"color: #800080; text-decoration-color: #800080\">56cdccc03a89a1140bc3d58afb1fd945460e9ddb78858b893f96c3da9f3f6318</span>, content: <span style=\"color: #008000; text-decoration-color: #008000\">'The capital of </span>\n",
              "<span style=\"color: #008000; text-decoration-color: #008000\">France is Paris 726'</span>, score: <span style=\"color: #008080; text-decoration-color: #008080; font-weight: bold\">0.4698249</span>, embedding: vector of size <span style=\"color: #008080; text-decoration-color: #008080; font-weight: bold\">768</span><span style=\"font-weight: bold\">)</span>,\n",
              "            <span style=\"color: #800080; text-decoration-color: #800080; font-weight: bold\">Document</span><span style=\"font-weight: bold\">(</span><span style=\"color: #808000; text-decoration-color: #808000\">id</span>=<span style=\"color: #800080; text-decoration-color: #800080\">1bfa297e32fb9d38ec2ecc59409937b910ce3cc9dab110ca40964fe00ce5dd5f</span>, content: <span style=\"color: #008000; text-decoration-color: #008000\">'The capital of </span>\n",
              "<span style=\"color: #008000; text-decoration-color: #008000\">Spain is Madrid 977'</span>, score: <span style=\"color: #008080; text-decoration-color: #008080; font-weight: bold\">0.46978408</span>, embedding: vector of size <span style=\"color: #008080; text-decoration-color: #008080; font-weight: bold\">768</span><span style=\"font-weight: bold\">)</span>\n",
              "        <span style=\"font-weight: bold\">]</span>\n",
              "    <span style=\"font-weight: bold\">}</span>\n",
              "<span style=\"font-weight: bold\">}</span>\n",
              "</pre>\n"
            ],
            "text/plain": [
              "\u001b[1m{\u001b[0m\n",
              "    \u001b[32m'document_joiner'\u001b[0m: \u001b[1m{\u001b[0m\n",
              "        \u001b[32m'documents'\u001b[0m: \u001b[1m[\u001b[0m\n",
              "            \u001b[1;35mDocument\u001b[0m\u001b[1m(\u001b[0m\u001b[33mid\u001b[0m=\u001b[35m76f7ac287e02cf5972db85446efcc230b7a4f0d8988fc325ec15b1c4d8188eb5\u001b[0m, content: \u001b[32m'The capital of \u001b[0m\n",
              "\u001b[32mSpain is Madrid 2'\u001b[0m, score: \u001b[1;36m0.6654567\u001b[0m, embedding: vector of size \u001b[1;36m768\u001b[0m\u001b[1m)\u001b[0m,\n",
              "            \u001b[1;35mDocument\u001b[0m\u001b[1m(\u001b[0m\u001b[33mid\u001b[0m=\u001b[35m81a55c519cd78fbe2eedf0d632cf2e256301ad42201b8be9b134eed7d5f8add6\u001b[0m, content: \u001b[32m'The capital of \u001b[0m\n",
              "\u001b[32mSpain is Madrid 10'\u001b[0m, score: \u001b[1;36m0.6654567\u001b[0m, embedding: vector of size \u001b[1;36m768\u001b[0m\u001b[1m)\u001b[0m,\n",
              "            \u001b[1;35mDocument\u001b[0m\u001b[1m(\u001b[0m\u001b[33mid\u001b[0m=\u001b[35mea817c00aee30178ebbfeb70f6e2a8853931c20ea47a1977227531ba175fc336\u001b[0m, content: \u001b[32m'The capital of \u001b[0m\n",
              "\u001b[32mSpain is Madrid 12'\u001b[0m, score: \u001b[1;36m0.6654567\u001b[0m, embedding: vector of size \u001b[1;36m768\u001b[0m\u001b[1m)\u001b[0m,\n",
              "            \u001b[1;35mDocument\u001b[0m\u001b[1m(\u001b[0m\u001b[33mid\u001b[0m=\u001b[35mc43c8845ec4831d3321f94db7b256c86d1c4a4a3b077dd7acb0e826c65be7a20\u001b[0m, content: \u001b[32m'The capital of \u001b[0m\n",
              "\u001b[32mSpain is Madrid 13'\u001b[0m, score: \u001b[1;36m0.6654567\u001b[0m, embedding: vector of size \u001b[1;36m768\u001b[0m\u001b[1m)\u001b[0m,\n",
              "            \u001b[1;35mDocument\u001b[0m\u001b[1m(\u001b[0m\u001b[33mid\u001b[0m=\u001b[35mb1da49017ec07aeed322e43c714e2f06e8048990af53c6b240c4a910f8588d75\u001b[0m, content: \u001b[32m'The capital of \u001b[0m\n",
              "\u001b[32mSpain is Madrid 14'\u001b[0m, score: \u001b[1;36m0.6654567\u001b[0m, embedding: vector of size \u001b[1;36m768\u001b[0m\u001b[1m)\u001b[0m,\n",
              "            \u001b[1;35mDocument\u001b[0m\u001b[1m(\u001b[0m\u001b[33mid\u001b[0m=\u001b[35me463016f308ca7446c7b1c2086fe0f5a7faf7fd23d1a036a1b4d7b384ca2ee0b\u001b[0m, content: \u001b[32m'The capital of \u001b[0m\n",
              "\u001b[32mSpain is Madrid 16'\u001b[0m, score: \u001b[1;36m0.6654567\u001b[0m, embedding: vector of size \u001b[1;36m768\u001b[0m\u001b[1m)\u001b[0m,\n",
              "            \u001b[1;35mDocument\u001b[0m\u001b[1m(\u001b[0m\u001b[33mid\u001b[0m=\u001b[35m97d3185e7aee8f0c5fda8f10a4664ce9d41169d80cba822004016a7772df5a1f\u001b[0m, content: \u001b[32m'The capital of \u001b[0m\n",
              "\u001b[32mSpain is Madrid 18'\u001b[0m, score: \u001b[1;36m0.6654567\u001b[0m, embedding: vector of size \u001b[1;36m768\u001b[0m\u001b[1m)\u001b[0m,\n",
              "            \u001b[1;35mDocument\u001b[0m\u001b[1m(\u001b[0m\u001b[33mid\u001b[0m=\u001b[35m5c41d72973050af64e932b8930982158cb2447bcba45d83c95f9b2a6bfa448f6\u001b[0m, content: \u001b[32m'The capital of \u001b[0m\n",
              "\u001b[32mSpain is Madrid 22'\u001b[0m, score: \u001b[1;36m0.6654567\u001b[0m, embedding: vector of size \u001b[1;36m768\u001b[0m\u001b[1m)\u001b[0m,\n",
              "            \u001b[1;35mDocument\u001b[0m\u001b[1m(\u001b[0m\u001b[33mid\u001b[0m=\u001b[35m18b8a234a362a7f23ec85ca2490ca076f3a685ac2f54dcc51fc0dc08ce01ec48\u001b[0m, content: \u001b[32m'The capital of \u001b[0m\n",
              "\u001b[32mSpain is Madrid 28'\u001b[0m, score: \u001b[1;36m0.6654567\u001b[0m, embedding: vector of size \u001b[1;36m768\u001b[0m\u001b[1m)\u001b[0m,\n",
              "            \u001b[1;35mDocument\u001b[0m\u001b[1m(\u001b[0m\u001b[33mid\u001b[0m=\u001b[35m894416844ee654aadc7b65a59e31d305ab2ff8f163d92cc8d55cc83087ab7cce\u001b[0m, content: \u001b[32m'The capital of \u001b[0m\n",
              "\u001b[32mSpain is Madrid 37'\u001b[0m, score: \u001b[1;36m0.6654567\u001b[0m, embedding: vector of size \u001b[1;36m768\u001b[0m\u001b[1m)\u001b[0m,\n",
              "            \u001b[1;35mDocument\u001b[0m\u001b[1m(\u001b[0m\u001b[33mid\u001b[0m=\u001b[35mfb2394dc1f7ad21a80b143c423de21a4ce53ce785de1236331a28615dd3ba3e2\u001b[0m, content: \u001b[32m'The capital of \u001b[0m\n",
              "\u001b[32mSpain is Madrid 194'\u001b[0m, score: \u001b[1;36m0.47077772\u001b[0m, embedding: vector of size \u001b[1;36m768\u001b[0m\u001b[1m)\u001b[0m,\n",
              "            \u001b[1;35mDocument\u001b[0m\u001b[1m(\u001b[0m\u001b[33mid\u001b[0m=\u001b[35mf8de88083f17f5011d81b5ac47366c3a31bb2a00d11fd67d0e9244f8579401c8\u001b[0m, content: \u001b[32m'The capital of \u001b[0m\n",
              "\u001b[32mItaly is Rome 141'\u001b[0m, score: \u001b[1;36m0.47066435\u001b[0m, embedding: vector of size \u001b[1;36m768\u001b[0m\u001b[1m)\u001b[0m,\n",
              "            \u001b[1;35mDocument\u001b[0m\u001b[1m(\u001b[0m\u001b[33mid\u001b[0m=\u001b[35ma5b9809f86b2260ff622077d366ac2072d9d2f9c6603db62111578cbc53738c6\u001b[0m, content: \u001b[32m'The capital of \u001b[0m\n",
              "\u001b[32mSpain is Madrid 538'\u001b[0m, score: \u001b[1;36m0.470319925\u001b[0m, embedding: vector of size \u001b[1;36m768\u001b[0m\u001b[1m)\u001b[0m,\n",
              "            \u001b[1;35mDocument\u001b[0m\u001b[1m(\u001b[0m\u001b[33mid\u001b[0m=\u001b[35mb3331a607a68e5cdf00857b31d5e48ad2dd1b3d3d63a32748938d381e6540146\u001b[0m, content: \u001b[32m'The capital of \u001b[0m\n",
              "\u001b[32mSpain is Madrid 118'\u001b[0m, score: \u001b[1;36m0.470275225\u001b[0m, embedding: vector of size \u001b[1;36m768\u001b[0m\u001b[1m)\u001b[0m,\n",
              "            \u001b[1;35mDocument\u001b[0m\u001b[1m(\u001b[0m\u001b[33mid\u001b[0m=\u001b[35m3f510b7d9f4b8e8837396ecad9457ae169d38396d5385bff6eb6dd5fbcb3c75e\u001b[0m, content: \u001b[32m'The capital of \u001b[0m\n",
              "\u001b[32mItaly is Rome 603'\u001b[0m, score: \u001b[1;36m0.4701038\u001b[0m, embedding: vector of size \u001b[1;36m768\u001b[0m\u001b[1m)\u001b[0m,\n",
              "            \u001b[1;35mDocument\u001b[0m\u001b[1m(\u001b[0m\u001b[33mid\u001b[0m=\u001b[35m66118fdd45b5b2f3fff2aa13d28b706efe4d3d239d11d7a335485d1f02da2eaf\u001b[0m, content: \u001b[32m'The capital of \u001b[0m\n",
              "\u001b[32mItaly is Rome 612'\u001b[0m, score: \u001b[1;36m0.4700622\u001b[0m, embedding: vector of size \u001b[1;36m768\u001b[0m\u001b[1m)\u001b[0m,\n",
              "            \u001b[1;35mDocument\u001b[0m\u001b[1m(\u001b[0m\u001b[33mid\u001b[0m=\u001b[35m651529b836953ffd40a8620b2a34390fd627fbf3880ea740233a2f1974cfdda9\u001b[0m, content: \u001b[32m'The capital of \u001b[0m\n",
              "\u001b[32mItaly is Rome 489'\u001b[0m, score: \u001b[1;36m0.47003627\u001b[0m, embedding: vector of size \u001b[1;36m768\u001b[0m\u001b[1m)\u001b[0m,\n",
              "            \u001b[1;35mDocument\u001b[0m\u001b[1m(\u001b[0m\u001b[33mid\u001b[0m=\u001b[35m6713ff1da7fece0bf2b16526aedd7f4044cf75a9be4928a85fade9c2446cded2\u001b[0m, content: \u001b[32m'The capital of \u001b[0m\n",
              "\u001b[32mGermany is Berlin 735'\u001b[0m, score: \u001b[1;36m0.469990015\u001b[0m, embedding: vector of size \u001b[1;36m768\u001b[0m\u001b[1m)\u001b[0m,\n",
              "            \u001b[1;35mDocument\u001b[0m\u001b[1m(\u001b[0m\u001b[33mid\u001b[0m=\u001b[35m56cdccc03a89a1140bc3d58afb1fd945460e9ddb78858b893f96c3da9f3f6318\u001b[0m, content: \u001b[32m'The capital of \u001b[0m\n",
              "\u001b[32mFrance is Paris 726'\u001b[0m, score: \u001b[1;36m0.4698249\u001b[0m, embedding: vector of size \u001b[1;36m768\u001b[0m\u001b[1m)\u001b[0m,\n",
              "            \u001b[1;35mDocument\u001b[0m\u001b[1m(\u001b[0m\u001b[33mid\u001b[0m=\u001b[35m1bfa297e32fb9d38ec2ecc59409937b910ce3cc9dab110ca40964fe00ce5dd5f\u001b[0m, content: \u001b[32m'The capital of \u001b[0m\n",
              "\u001b[32mSpain is Madrid 977'\u001b[0m, score: \u001b[1;36m0.46978408\u001b[0m, embedding: vector of size \u001b[1;36m768\u001b[0m\u001b[1m)\u001b[0m\n",
              "        \u001b[1m]\u001b[0m\n",
              "    \u001b[1m}\u001b[0m\n",
              "\u001b[1m}\u001b[0m\n"
            ]
          },
          "metadata": {},
          "output_type": "display_data"
        },
        {
          "data": {
            "text/html": [
              "<pre style=\"white-space:pre;overflow-x:auto;line-height:normal;font-family:Menlo,'DejaVu Sans Mono',consolas,'Courier New',monospace\">Time taken for <span style=\"color: #008080; text-decoration-color: #008080; font-weight: bold\">100</span> concurrent calls: <span style=\"color: #008080; text-decoration-color: #008080; font-weight: bold\">11.726269483566284</span> seconds\n",
              "</pre>\n"
            ],
            "text/plain": [
              "Time taken for \u001b[1;36m100\u001b[0m concurrent calls: \u001b[1;36m11.726269483566284\u001b[0m seconds\n"
            ]
          },
          "metadata": {},
          "output_type": "display_data"
        }
      ],
      "source": [
        "embedding_retriever = ElasticsearchEmbeddingRetriever(document_store=document_store)\n",
        "bm25_retriever = ElasticsearchBM25Retriever(document_store=document_store)\n",
        "document_joiner = DocumentJoiner(join_mode=\"merge\")\n",
        "\n",
        "hybrid_retrieval = Pipeline()\n",
        "hybrid_retrieval.add_component(\n",
        "    \"concurrent_retrievers\",\n",
        "    ConcurrentRetrievers(\n",
        "        retrievers=[embedding_retriever, bm25_retriever],\n",
        "        names=[\"embedding_retriever\", \"bm25_retriever\"],\n",
        "    ),\n",
        ")\n",
        "hybrid_retrieval.add_component(\"document_joiner\", document_joiner)\n",
        "\n",
        "hybrid_retrieval.connect(\"concurrent_retrievers.embedding_retriever\", \"document_joiner\")\n",
        "hybrid_retrieval.connect(\"concurrent_retrievers.bm25_retriever\", \"document_joiner\")\n",
        "\n",
        "query = \"Madrid\"\n",
        "query_embedding = [0.1] * 768\n",
        "\n",
        "start = time.time()\n",
        "n = 100\n",
        "for i in range(n):\n",
        "    result = hybrid_retrieval.run(\n",
        "        {\"concurrent_retrievers\": {\"query\": query, \"query_embedding\": query_embedding}}\n",
        "    )\n",
        "\n",
        "end = time.time()\n",
        "print(result)\n",
        "print(f\"Time taken for {n} concurrent calls: {end - start} seconds\")"
      ]
    },
    {
      "cell_type": "markdown",
      "metadata": {
        "id": "ORRniqskV3n7"
      },
      "source": [
        "## Conclusions\n",
        "\n",
        "- The proposed approach has proved effective for I/O bound tasks.\n",
        "- A similar approach can be implemented using multiprocessing for CPU-bound tasks, such as local ML inference.\n",
        "- When implementing components like these, special attention must be paid to input and output to make them truly usable in pipelines."
      ]
    },
    {
      "cell_type": "markdown",
      "metadata": {
        "id": "X8-UD2UVZqQY"
      },
      "source": [
        "*Notebook by [Stefano Fiorucci](https://github.com/anakin87)*"
      ]
    }
  ],
  "metadata": {
    "colab": {
      "provenance": []
    },
    "kernelspec": {
      "display_name": "Python 3",
      "name": "python3"
    },
    "language_info": {
      "name": "python"
    }
  },
  "nbformat": 4,
  "nbformat_minor": 0
}
