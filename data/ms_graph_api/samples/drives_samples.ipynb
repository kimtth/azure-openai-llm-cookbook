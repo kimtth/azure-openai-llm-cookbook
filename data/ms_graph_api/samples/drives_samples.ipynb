{
 "cells": [
  {
   "cell_type": "markdown",
   "id": "4c5f2cd5",
   "metadata": {},
   "source": [
    "# Create the API Client"
   ]
  },
  {
   "cell_type": "code",
   "execution_count": null,
   "id": "25aa19ac",
   "metadata": {},
   "outputs": [],
   "source": [
    "import asyncio\n",
    "\n",
    "from azure.identity import ClientSecretCredential\n",
    "from msgraph import GraphServiceClient \n",
    "\n",
    "# Create a credential object. Used to authenticate requests\n",
    "credential = ClientSecretCredential(\n",
    "    tenant_id='TENANT_ID',\n",
    "    client_id='CLIENT_ID',\n",
    "    client_secret='CLIENT_SECRET'\n",
    ")\n",
    "scopes = ['https://graph.microsoft.com/.default']\n",
    "\n",
    "# Create an API client with the credentials and scopes.\n",
    "client = GraphServiceClient(credentials=credential, scopes=scopes)"
   ]
  },
  {
   "cell_type": "markdown",
   "id": "e642e507",
   "metadata": {},
   "source": [
    "## 1. LIST ALL DRIVES (GET /drives)"
   ]
  },
  {
   "cell_type": "code",
   "execution_count": null,
   "id": "200eed21",
   "metadata": {},
   "outputs": [],
   "source": [
    "async def get_drives():\n",
    "    drives = await client.drives.get()\n",
    "    if drives and drives.value:\n",
    "        for drive in drives.value:\n",
    "            print(drive.id, drive.drive_type, drive.name, drive.description, drive.web_url)\n",
    "asyncio.run(get_drives())"
   ]
  },
  {
   "cell_type": "markdown",
   "id": "fee96895",
   "metadata": {},
   "source": [
    "## 2. GET DRIVE BY ID (GET /drives/{id})"
   ]
  },
  {
   "cell_type": "code",
   "execution_count": null,
   "id": "45ce244e",
   "metadata": {},
   "outputs": [],
   "source": [
    "async def get_drive():\n",
    "    drive = await client.drives.by_drive_id('DRIVE_ID').get()\n",
    "    if drive:\n",
    "        print(drive.id, drive.drive_type, drive.name, drive.description, drive.web_url)\n",
    "asyncio.run(get_drive())"
   ]
  },
  {
   "cell_type": "markdown",
   "id": "869ab77d",
   "metadata": {},
   "source": [
    "## 3. LIST ALL THE ITEMS IN A DRIVE (GET /drives/{id}/items)"
   ]
  },
  {
   "cell_type": "code",
   "execution_count": null,
   "id": "73af66bc",
   "metadata": {},
   "outputs": [],
   "source": [
    "async def get_drive_items():\n",
    "    items = await client.drives.by_drive_id('DRIVE_ID').items.get()\n",
    "    if items and items.value:\n",
    "        for item in items.value:\n",
    "            print(item.id, item.name, item.size, item.folder, item.file)\n",
    "asyncio.run(get_drive_items())"
   ]
  },
  {
   "cell_type": "markdown",
   "id": "bc11c954",
   "metadata": {},
   "source": [
    "##  4. GET AN ITEM IN THE DRIVE (GET /drives/{id}/items/{id})"
   ]
  },
  {
   "cell_type": "code",
   "execution_count": null,
   "id": "a01ada99",
   "metadata": {},
   "outputs": [],
   "source": [
    "async def get_drive_item():\n",
    "    item = await client.drives.by_drive_id('DRIVE_ID').items.by_drive_item_id('ITEM_ID').get()\n",
    "    if item:\n",
    "        print(item.id, item.name, item.size, item.folder, item.file)\n",
    "asyncio.run(get_drive_item())"
   ]
  },
  {
   "cell_type": "markdown",
   "id": "3d17600e",
   "metadata": {},
   "source": [
    "## 5. GET THE ROOT FOLDER OF THE DRIVE (GET /drives/{id}/root)"
   ]
  },
  {
   "cell_type": "code",
   "execution_count": null,
   "id": "aaeb5d56",
   "metadata": {},
   "outputs": [],
   "source": [
    "async def get_drive_root():\n",
    "    root = await client.drives.by_drive_id('DRIVE_ID').root.get()\n",
    "    if root:\n",
    "        print(root.id, root.name, root.folder.child_count, root.root, root.size)\n",
    "asyncio.run(get_drive_root())"
   ]
  },
  {
   "cell_type": "markdown",
   "id": "10faf7a3",
   "metadata": {},
   "source": [
    "## 6. GET ITEMS IN THE ROOT FOLDER OF THE DRIVE (GET drives/{id}/items/root/children)"
   ]
  },
  {
   "cell_type": "code",
   "execution_count": null,
   "id": "d663661c",
   "metadata": {},
   "outputs": [],
   "source": [
    "async def get_drive():\n",
    "    items = await client.drives.by_drive_id('DRIVE_ID').items.by_drive_item_id('root').children.get()\n",
    "    if items and items.value:\n",
    "        for item in items.value:\n",
    "            print(item.id, item.name, item.size, item.folder, item.file)\n",
    "asyncio.run(get_drive())"
   ]
  }
 ],
 "metadata": {},
 "nbformat": 4,
 "nbformat_minor": 5
}
