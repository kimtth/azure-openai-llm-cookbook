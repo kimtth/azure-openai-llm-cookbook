{
 "cells": [
  {
   "cell_type": "markdown",
   "id": "20c9947b",
   "metadata": {},
   "source": [
    "# Usage Examples\n",
    "\n",
    "## 1. Creating a Graph client\n",
    "This creates a default Graph client that uses `https://graph.microsoft.com` as the default base URL and default configured HTTPX client to make the requests."
   ]
  },
  {
   "cell_type": "code",
   "execution_count": null,
   "id": "6bbc1872",
   "metadata": {},
   "outputs": [],
   "source": [
    "from azure.identity import AuthorizationCodeCredential\n",
    "from msgraph import GraphServiceClient\n",
    "\n",
    "credentials = AuthorizationCodeCredential(\n",
    "    tenant_id: str,\n",
    "    client_id: str,\n",
    "    authorization_code: str,\n",
    "    redirect_uri: str\n",
    ")\n",
    "scopes = ['User.Read', 'Mail.ReadWrite']\n",
    "client = GraphServiceClient(credentials=credentials, scopes=scopes)"
   ]
  },
  {
   "cell_type": "markdown",
   "id": "e6cddc88",
   "metadata": {},
   "source": [
    "## 2. Creating a Graph client using a custom `httpx.AsyncClient` instance"
   ]
  },
  {
   "cell_type": "code",
   "execution_count": null,
   "id": "ec406784",
   "metadata": {},
   "outputs": [],
   "source": [
    "from msgraph import GraphRequestAdapter\n",
    "from msgraph_core import GraphClientFactory\n",
    "\n",
    "http_client = GraphClientFactory.create_with_default_middleware(client=httpx.AsyncClient())\n",
    "request_adapter = GraphRequestAdapter(auth_provider, http_client)\n",
    "client = GraphServiceClient(request_adapter=request_adapter)"
   ]
  },
  {
   "cell_type": "markdown",
   "id": "97982968",
   "metadata": {},
   "source": [
    "## 3. Get an item from the Microsoft Graph API\n",
    "\n",
    "This sample fetches the current signed-in user. Note that to use `/me` endpoint you need\n",
    "a delegated permission. Alternatively, using application permissions, you can request `/users/[userPrincipalName]`. See [Microsoft Graph Permissions](https://docs.microsoft.com/en-us/graph/auth/auth-concepts#microsoft-graph-permissions) for more."
   ]
  },
  {
   "cell_type": "code",
   "execution_count": null,
   "id": "b97847d4",
   "metadata": {},
   "outputs": [],
   "source": [
    "async def get_me():\n",
    "    me = await client.me.get()\n",
    "    if me:\n",
    "        print(me.user_principal_name, me.display_name, me.id)\n",
    "asyncio.run(get_me())"
   ]
  },
  {
   "cell_type": "markdown",
   "id": "5d19c464",
   "metadata": {},
   "source": [
    "## 4. Get a collection of items\n",
    "This snippet retrieves the messages in a user's mailbox. Ensure you have the [correct permissions](https://docs.microsoft.com/en-us/graph/api/user-list-messages?view=graph-rest-1.0&tabs=http#permissions) set.\n",
    "The Graph API response is deserialized into a collection of `Message` - a model class provided by the SDK."
   ]
  },
  {
   "cell_type": "code",
   "execution_count": null,
   "id": "bd40575b",
   "metadata": {},
   "outputs": [],
   "source": [
    "async def get_user_messages():\n",
    "    messages = await (client.users.by_user_id('USER_ID').messages.get())\n",
    "    if messages and messages.value:\n",
    "        for msg in messages.value:\n",
    "            print(msg.subject, msg.id, msg.from_)\n",
    "asyncio.run(get_user_messages())"
   ]
  },
  {
   "cell_type": "markdown",
   "id": "2ff6747e",
   "metadata": {},
   "source": [
    "## 5. Passing custom request headers\n",
    "Each execution method i.e. `get()`, `post()`, `put()`, `patch()`, `delete()` accepts a `RequestConfiguration` object where the request headers can be set:"
   ]
  },
  {
   "cell_type": "code",
   "execution_count": null,
   "id": "5cac8036",
   "metadata": {},
   "outputs": [],
   "source": [
    "from msgraph.generated.users.item.messages.messages_request_builder import MessagesRequestBuilder\n",
    "\n",
    "async def get_user_messages():\n",
    "    request_config = MessagesRequestBuilder.MessagesRequestBuilderGetRequestConfiguration(\n",
    "    )\n",
    "    request_config.headers.add(\"prefer\", \"outlook.body-content-type=text\")\n",
    "\n",
    "    messages = await (client.users.by_user_id('USER_ID')\n",
    "                    .messages\n",
    "                    .get(request_configuration=request_config))\n",
    "    if messages and messages.value:\n",
    "        for msg in messages.value:\n",
    "            print(msg.subject, msg.id, msg.from_)\n",
    "asyncio.run(get_user_messages())"
   ]
  },
  {
   "cell_type": "markdown",
   "id": "7d7c8021",
   "metadata": {},
   "source": [
    "## 6. Passing query parameters"
   ]
  },
  {
   "cell_type": "code",
   "execution_count": null,
   "id": "9eb5c2a2",
   "metadata": {},
   "outputs": [],
   "source": [
    "from msgraph.generated.users.item.messages.messages_request_builder import MessagesRequestBuilder\n",
    "\n",
    "async def get_5_user_messages():\n",
    "    query_params = MessagesRequestBuilder.MessagesRequestBuilderGetQueryParameters(\n",
    "        select=['subject', 'from'], skip = 2, top=5\n",
    "    )\n",
    "    request_config = MessagesRequestBuilder.MessagesRequestBuilderGetRequestConfiguration(\n",
    "        query_parameters=query_params\n",
    "    )\n",
    "\n",
    "    messages = await (client.users.by_user_id('USER_ID')\n",
    "                    .messages\n",
    "                    .get(request_configuration=request_config))\n",
    "    if messages and messages.value:\n",
    "        for msg in messages.value:\n",
    "            print(msg.subject)\n",
    "asyncio.run(get_5_user_messages())"
   ]
  },
  {
   "cell_type": "markdown",
   "id": "e7ec884f",
   "metadata": {},
   "source": [
    "## 7. Get the raw http response\n",
    "The SDK provides a default response handler which returns the native HTTPX response.\n",
    "\n",
    "To get the raw response:"
   ]
  },
  {
   "cell_type": "code",
   "execution_count": null,
   "id": "e09f9cfc",
   "metadata": {},
   "outputs": [],
   "source": [
    "from kiota_abstractions.native_response_handler import NativeResponseHandler\n",
    "from kiota_http.middleware.options import ResponseHandlerOption\n",
    "from msgraph.generated.users.item.messages.messages_request_builder import MessagesRequestBuilder\n",
    "\n",
    "async def get_user_messages():\n",
    "    request_config = MessagesRequestBuilder.MessagesRequestBuilderGetRequestConfiguration(\n",
    "        options=[ResponseHandlerOption(NativeResponseHandler())], )\n",
    "    messages = await client.users.by_user_id('USER_ID').messages.get(request_configuration=request_config)\n",
    "    print(messages.json())\n",
    "asyncio.run(get_user())"
   ]
  },
  {
   "cell_type": "markdown",
   "id": "58f9af1c",
   "metadata": {},
   "source": [
    "## 8. Send Mail with User's delegation\n",
    "\n",
    "This sample sends an email. The request body is constructed using the provided models.\n",
    "Ensure you have the [right permissions](https://docs.microsoft.com/en-us/graph/api/user-sendmail?view=graph-rest-1.0&tabs=http#permissions).\n",
    "\n",
    "Setup includes:\n",
    "1. App Registration > Authentication > `Platform: Mobile and desktop applications` with `redirect_uri` specified as `http://localhost` and **public client flow** enabled.\n",
    "2. App Registration > API permissions > `Mail.Send` permissions, potentially requiring admin consent."
   ]
  },
  {
   "cell_type": "code",
   "execution_count": null,
   "id": "0b1b98c0",
   "metadata": {},
   "outputs": [],
   "source": [
    "import asyncio\n",
    "from msgraph import GraphServiceClient\n",
    "\n",
    "from msgraph.generated.users.item.send_mail.send_mail_post_request_body import SendMailPostRequestBody\n",
    "from msgraph.generated.models.body_type import BodyType\n",
    "from msgraph.generated.models.message import Message\n",
    "from msgraph.generated.models.email_address import EmailAddress\n",
    "from msgraph.generated.models.importance import Importance\n",
    "from msgraph.generated.models.item_body import ItemBody\n",
    "from msgraph.generated.models.recipient import Recipient\n",
    "from msgraph.generated.users.item.messages.messages_request_builder import MessagesRequestBuilder\n",
    "\n",
    "from azure.identity import InteractiveBrowserCredential\n",
    "\n",
    "credential = InteractiveBrowserCredential(\n",
    "    client_id,\n",
    "    authority,\n",
    "    tenant_id,\n",
    "    redirect_uri\n",
    ")\n",
    "scopes = ['Mail.Send']\n",
    "# alternatively, use \"Mail.Send.Shared\" for a shared mailbox.\n",
    "\n",
    "client = GraphServiceClient(credentials=credential, scopes=scopes)\n",
    "\n",
    "async def send_mail():\n",
    "    \n",
    "    sender = EmailAddress()\n",
    "    sender.address = 'john.doe@outlook.com'\n",
    "    sender.name = 'John Doe'\n",
    "    \n",
    "    from_recipient = Recipient()\n",
    "    from_recipient.email_address = sender\n",
    "    recipients = []\n",
    "\n",
    "    recipient_email = EmailAddress()\n",
    "    recipient_email.address = 'jane.doe@outlook.com'\n",
    "    recipient_email.name = 'Jane Doe'\n",
    "    \n",
    "    to_recipient = Recipient()\n",
    "    to_recipient.email_address = recipient_email\n",
    "    recipients.append(to_recipient) \n",
    "\n",
    "    email_body = ItemBody()\n",
    "    email_body.content = 'Dummy content'\n",
    "    email_body.content_type = BodyType.Text\n",
    "    \n",
    "    message = Message()\n",
    "    message.subject = 'Test Email'\n",
    "    message.from_escaped = from_recipient\n",
    "    message.to_recipients = recipients\n",
    "    message.body = email_body\n",
    "    \n",
    "    request_body = SendMailPostRequestBody()\n",
    "    request_body.message = message\n",
    "    response = await client.me.send_mail.post(request_body)\n",
    "asyncio.run(send_mail())"
   ]
  },
  {
   "cell_type": "markdown",
   "id": "033e538e",
   "metadata": {},
   "source": [
    "## 8.1 Send Mail with Shared Mailbox and \"Public Client\" setup\n",
    "To use a shared mailbox (From) to which user (Sender) has access, the \"From\" recipient has to be additionally. Resulting in the following code.\n",
    "\n",
    "Note that you require **Mail.Send.Shared** permissions to send from shared mailboxes."
   ]
  },
  {
   "cell_type": "code",
   "execution_count": null,
   "id": "36b7b941",
   "metadata": {},
   "outputs": [],
   "source": [
    "import asyncio\n",
    "from msgraph import GraphServiceClient\n",
    "\n",
    "from msgraph.generated.models.body_type import BodyType\n",
    "from msgraph.generated.models.message import Message\n",
    "from msgraph.generated.models.email_address import EmailAddress\n",
    "from msgraph.generated.models.item_body import ItemBody\n",
    "from msgraph.generated.models.recipient import Recipient\n",
    "from msgraph.generated.users.item.send_mail.send_mail_post_request_body import SendMailPostRequestBody\n",
    "\n",
    "from azure.identity import InteractiveBrowserCredential\n",
    "\n",
    "# Create a credential object. Used to authenticate requests\n",
    "credential = InteractiveBrowserCredential(\n",
    "    client_id,\n",
    "    authority, # e.g. https://login.microsoftonline.com/ for public Azure cloud\n",
    "    tenant_id,\n",
    "    redirect_uri # as configured in your App Registration > Authentication > Platform: Mobile and desktop applications\n",
    ")\n",
    "scopes = [\"Mail.Send.Shared\"]\n",
    "\n",
    "# Create an API client with the credentials and scopes.\n",
    "client = GraphServiceClient(credentials=credential, scopes=scopes)\n",
    "\n",
    "\n",
    "async def send_mail():\n",
    "    sender = EmailAddress()\n",
    "    sender.address = 'john.doe@outlook.com'\n",
    "    sender.name = 'John Doe' # skip to use default\n",
    "\n",
    "    sender_recipient = Recipient()\n",
    "    sender_recipient.email_address = sender\n",
    "\n",
    "    from_mailbox = EmailAddress()\n",
    "    from_mailbox.address = 'your-shared-mailbox@outlook.com'\n",
    "    # skip from_mailbox.name = ... to use the default display name of the shared mailbox\n",
    "\n",
    "    from_recipient = Recipient()\n",
    "    from_recipient.email_address = from_mailbox\n",
    "\n",
    "    recipients = []\n",
    "    recipient_email = EmailAddress()\n",
    "    recipient_email.address = 'jane.doe@outlook.com'\n",
    "    recipient_email.name = 'Jane Doe'\n",
    "\n",
    "    to_recipient = Recipient()\n",
    "    to_recipient.email_address = recipient_email\n",
    "    recipients.append(to_recipient)\n",
    "\n",
    "    email_body = ItemBody()\n",
    "    email_body.content = 'Dummy content'\n",
    "    email_body.content_type = BodyType.Text\n",
    "\n",
    "    message = Message()\n",
    "    message.subject = 'Test Email'\n",
    "    message.sender = sender_recipient\n",
    "    message.from_ = from_recipient\n",
    "    message.to_recipients = recipients\n",
    "    message.body = email_body\n",
    "\n",
    "    request_body = SendMailPostRequestBody()\n",
    "    request_body.message = message\n",
    "    response = await client.me.send_mail.post(request_body)\n",
    "asyncio.run(send_mail())"
   ]
  }
 ],
 "metadata": {},
 "nbformat": 4,
 "nbformat_minor": 5
}
