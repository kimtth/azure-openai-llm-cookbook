{
 "cells": [
  {
   "cell_type": "markdown",
   "id": "31da2359",
   "metadata": {},
   "source": [
    "# Create the API Client"
   ]
  },
  {
   "cell_type": "code",
   "execution_count": null,
   "id": "6cf0a333",
   "metadata": {},
   "outputs": [],
   "source": [
    "import asyncio\n",
    "\n",
    "from azure.identity import ClientSecretCredential\n",
    "from msgraph import GraphServiceClient\n",
    "\n",
    "# Create a credential object. Used to authenticate requests\n",
    "credential = ClientSecretCredential(\n",
    "    tenant_id='TENANT_ID',\n",
    "    client_id='CLIENT_ID',\n",
    "    client_secret='CLIENT_SECRET'\n",
    ")\n",
    "scopes = ['https://graph.microsoft.com/.default']\n",
    "\n",
    "# Create an API client with the credentials and scopes.\n",
    "client = GraphServiceClient(credentials=credential, scopes=scopes)"
   ]
  },
  {
   "cell_type": "markdown",
   "id": "42ca8b6b",
   "metadata": {},
   "source": [
    "## 1. LIST ALL GROUPS IN THE TENANT (GET /groups)"
   ]
  },
  {
   "cell_type": "code",
   "execution_count": null,
   "id": "d1f34890",
   "metadata": {},
   "outputs": [],
   "source": [
    "async def get_groups():\n",
    "    groups = await client.groups.get()\n",
    "    if groups and groups.value:\n",
    "        for group in groups.value:\n",
    "            print(group.id, group.display_name)\n",
    "asyncio.run(get_groups())"
   ]
  },
  {
   "cell_type": "markdown",
   "id": "7e92e431",
   "metadata": {},
   "source": [
    "## 2. GET A SPECIFIC GROUP (GET /groups/{id})"
   ]
  },
  {
   "cell_type": "code",
   "execution_count": null,
   "id": "129c312d",
   "metadata": {},
   "outputs": [],
   "source": [
    "async def get_group():\n",
    "    group = await client.groups.by_group_id('GROUP_ID').get()\n",
    "    if group:\n",
    "        print(group.id, group.display_name, group.description, group.group_types,\n",
    "            group.security_enabled)\n",
    "asyncio.run(get_group())"
   ]
  },
  {
   "cell_type": "markdown",
   "id": "1efd120d",
   "metadata": {},
   "source": [
    "## 3. LIST ALL MEMBERS IN A GROUP (GET /groups/{id}/members)"
   ]
  },
  {
   "cell_type": "code",
   "execution_count": null,
   "id": "f7010dcd",
   "metadata": {},
   "outputs": [],
   "source": [
    "async def get_group_members(): \n",
    "    members = await client.groups.by_group_id('GROUP_ID').members.get()\n",
    "    if members and members.value:\n",
    "        for member in members.value:\n",
    "            user = await client.users.by_user_id(member.id).get()\n",
    "            if user:\n",
    "                print(user.display_name, user.mail)\n",
    "asyncio.run(get_group_members())"
   ]
  },
  {
   "cell_type": "markdown",
   "id": "9df301f5",
   "metadata": {},
   "source": [
    "## 4. LIST A GROUP TEAM SHAREPOINT SITES (GET /groups/{id}/sites)"
   ]
  },
  {
   "cell_type": "code",
   "execution_count": null,
   "id": "5285ac49",
   "metadata": {},
   "outputs": [],
   "source": [
    "async def get_group_sites():\n",
    "    sites = await client.groups.by_group_id('GROUP_ID').sites.get()\n",
    "    if sites and sites.value:\n",
    "        for site in sites.value:\n",
    "            print(site.id, site.web_url)\n",
    "asyncio.run(get_group_sites())"
   ]
  },
  {
   "cell_type": "markdown",
   "id": "9ceff5c0",
   "metadata": {},
   "source": [
    "## 5. LIST A GROUP'S TRANSITIVE MEMBERS (GET /groups/{id}/transitiveMembers)"
   ]
  },
  {
   "cell_type": "code",
   "execution_count": null,
   "id": "245d5683",
   "metadata": {},
   "outputs": [],
   "source": [
    "async def get_group_transitive_members():\n",
    "    members = await client.groups.by_group_id('GROUP_ID').transitive_members.get()\n",
    "    if members and members.value:\n",
    "        for member in members.value:\n",
    "            obj = await client.directory_objects.by_directory_object_id(member.id).get()\n",
    "            if obj and obj.odata_type == '#microsoft.graph.user':\n",
    "                user = await client.users.by_user_id(obj.id).get()\n",
    "                if user:\n",
    "                    print(user.id, user.display_name, user.mail)\n",
    "asyncio.run(get_group_transitive_members())"
   ]
  },
  {
   "cell_type": "markdown",
   "id": "a53b3350",
   "metadata": {},
   "source": [
    "## 6. LIST ALL GROUP DRIVES (GET /groups/{id}/drives)"
   ]
  },
  {
   "cell_type": "code",
   "execution_count": null,
   "id": "75ffb916",
   "metadata": {},
   "outputs": [],
   "source": [
    "async def get_group_drives():\n",
    "    drives = await client.groups.by_group_id('GROUP_ID').drives.get()\n",
    "    if drives and drives.value:\n",
    "        for drive in drives.value:\n",
    "            print(drive.id, drive.name)\n",
    "asyncio.run(get_group_drives())"
   ]
  },
  {
   "cell_type": "markdown",
   "id": "a14c9298",
   "metadata": {},
   "source": [
    "## 7. GET A GROUP DRIVE (GET /groups/{id}/drives/{id})"
   ]
  },
  {
   "cell_type": "code",
   "execution_count": null,
   "id": "b59328f5",
   "metadata": {},
   "outputs": [],
   "source": [
    "async def get_group_drive():\n",
    "    drive = await client.groups.by_group_id(\n",
    "        'GROUP_ID'\n",
    "        ).drives.by_drive_id(\n",
    "            'DRIVE_ID'\n",
    "            ).get()\n",
    "    if drive:\n",
    "        print(drive.id, drive.drive_type, drive.name, drive.web_url, drive.items)\n",
    "asyncio.run(get_group_drive())"
   ]
  }
 ],
 "metadata": {},
 "nbformat": 4,
 "nbformat_minor": 5
}
