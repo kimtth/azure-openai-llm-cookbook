{
 "cells": [
  {
   "cell_type": "markdown",
   "id": "4b98e5c0",
   "metadata": {},
   "source": [
    "# Create the API Client"
   ]
  },
  {
   "cell_type": "code",
   "execution_count": null,
   "id": "ba9609f1",
   "metadata": {},
   "outputs": [],
   "source": [
    "import asyncio\n",
    "\n",
    "from azure.identity import ClientSecretCredential\n",
    "from msgraph import GraphServiceClient\n",
    "\n",
    "# Create a credential object. Used to authenticate requests\n",
    "credential = ClientSecretCredential(\n",
    "    tenant_id='TENANT_ID',\n",
    "    client_id='CLIENT_ID',\n",
    "    client_secret='CLIENT_SECRET',\n",
    ")\n",
    "scopes = ['https://graph.microsoft.com/.default']\n",
    "\n",
    "# Create an API client with the credentials and scopes\n",
    "client = GraphServiceClient(credentials=credential, scopes=scopes)"
   ]
  },
  {
   "cell_type": "markdown",
   "id": "d6953017",
   "metadata": {},
   "source": [
    "## 1. LIST ALL APPLICATIONS IN THE TENANT (GET /applications)"
   ]
  },
  {
   "cell_type": "code",
   "execution_count": null,
   "id": "003d72a5",
   "metadata": {},
   "outputs": [],
   "source": [
    "async def get_applications():\n",
    "    apps = await client.applications.get()\n",
    "    if apps and apps.value:\n",
    "        for app in apps.value:\n",
    "            print(app.id)\n",
    "asyncio.run(get_applications())"
   ]
  }
 ],
 "metadata": {},
 "nbformat": 4,
 "nbformat_minor": 5
}
