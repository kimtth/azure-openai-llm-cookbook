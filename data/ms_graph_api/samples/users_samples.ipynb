{
 "cells": [
  {
   "cell_type": "markdown",
   "id": "dd525ca0",
   "metadata": {},
   "source": [
    "## Create the API Client"
   ]
  },
  {
   "cell_type": "code",
   "execution_count": null,
   "id": "9a3d937b",
   "metadata": {},
   "outputs": [],
   "source": [
    "import asyncio\n",
    "\n",
    "from azure.identity import ClientSecretCredential\n",
    "from msgraph import GraphServiceClient\n",
    "\n",
    "# Create a credential object. Used to authenticate requests\n",
    "credential = ClientSecretCredential(\n",
    "    tenant_id='TENANT_ID',\n",
    "    client_id='CLIENT_ID',\n",
    "    client_secret='CLIENT_SECRET'\n",
    ")\n",
    "scopes = ['https://graph.microsoft.com/.default']\n",
    "\n",
    "# Create an API client with the credentials and scopes.\n",
    "client = GraphServiceClient(credentials=credential, scopes=scopes)"
   ]
  },
  {
   "cell_type": "markdown",
   "id": "e9c050d1",
   "metadata": {},
   "source": [
    "## 1. GET ALL USERS IN A TENANT (GET /users)"
   ]
  },
  {
   "cell_type": "code",
   "execution_count": null,
   "id": "359341fe",
   "metadata": {},
   "outputs": [],
   "source": [
    "async def get_users():\n",
    "    users = await client.users.get()\n",
    "    if users and users.value:\n",
    "        for user in users.value:\n",
    "            print(user.id, user.display_name, user.mail)\n",
    "asyncio.run(get_users())"
   ]
  },
  {
   "cell_type": "markdown",
   "id": "9a4f8cda",
   "metadata": {},
   "source": [
    "## 2. GET A SPECIFIC USER (GET /users/{id | userPrincipalName})"
   ]
  },
  {
   "cell_type": "code",
   "execution_count": null,
   "id": "d3f925d8",
   "metadata": {},
   "outputs": [],
   "source": [
    "async def get_user():\n",
    "    user = await client.users.by_user_id('USER_ID').get()\n",
    "    if user:\n",
    "        print(user.user_principal_name, user.display_name, user.id)\n",
    "asyncio.run(get_user())\n",
    "\n",
    "# LIST ALL TRANSITIVE MEMBERSHIPS OF A USER (GET /users/{id}/transitiveMemberOf)\n",
    "\n",
    "async def get_memberships():\n",
    "    memberships = await client.users.by_user_id('USER_ID').transitive_member_of.get()\n",
    "    if memberships and memberships.value:\n",
    "        for membership in memberships.value:\n",
    "            obj = await client.directory_objects.by_directory_object_id(membership.id).get()\n",
    "            if obj and obj.odata_type == '#microsoft.graph.group':\n",
    "                group = await client.groups.by_group_id(obj.id).get()\n",
    "                if group:\n",
    "                    print(group.id, group.group_types, group.display_name, group.mail)\n",
    "asyncio.run(get_memberships())"
   ]
  },
  {
   "cell_type": "markdown",
   "id": "d551817d",
   "metadata": {},
   "source": [
    "## 3. SEARCH USER BY NAME (GET /users/$search?=)"
   ]
  },
  {
   "cell_type": "code",
   "execution_count": null,
   "id": "0bbcdd3f",
   "metadata": {},
   "outputs": [],
   "source": [
    "import asyncio\n",
    "\n",
    "from azure.identity import AzureCliCredential\n",
    "from msgraph import GraphServiceClient\n",
    "from msgraph.generated.users.users_request_builder import UsersRequestBuilder\n",
    "\n",
    "\n",
    "async def find_user(user_name: str, client: GraphServiceClient) -> None:\n",
    "    # The query used here is the same when searching for users in Azure AD via web console\n",
    "    query_params = UsersRequestBuilder.UsersRequestBuilderGetQueryParameters(\n",
    "        search=[\n",
    "            f'(\"displayName:{user_name}\" OR \"mail:{user_name}\" OR \"userPrincipalName:{user_name}\" OR \"givenName:{user_name}\" OR \"surName:{user_name}\" OR \"otherMails:{user_name}\")'\n",
    "        ],\n",
    "    )\n",
    "    request_configuration = (\n",
    "        UsersRequestBuilder.UsersRequestBuilderGetRequestConfiguration(\n",
    "            query_parameters=query_params,\n",
    "        )\n",
    "    )\n",
    "    request_configuration.headers.add(\"ConsistencyLevel\", \"eventual\")\n",
    "\n",
    "    response = await client.users.get(request_configuration=request_configuration)\n",
    "    if response.value:\n",
    "        user = response.value[0]\n",
    "        print(\n",
    "            f\"Found user for {user_name} in the Azure AD with user principal name {user.user_principal_name} and display name {user.display_name}\"\n",
    "        )\n",
    "    else:\n",
    "        print(f\"{user_name} user in the Azure AD not found\")\n",
    "\n",
    "\n",
    "def main():\n",
    "    # Use cli credentials to authenticate against Azure\n",
    "    # Before running script do `az login`\n",
    "    credential = AzureCliCredential()\n",
    "    scopes = [\"https://graph.microsoft.com/.default\"]\n",
    "    client = GraphServiceClient(credentials=credential, scopes=scopes)\n",
    "    asyncio.run(find_user(\"john\", client))\n",
    "\n",
    "\n",
    "main()"
   ]
  }
 ],
 "metadata": {},
 "nbformat": 4,
 "nbformat_minor": 5
}
