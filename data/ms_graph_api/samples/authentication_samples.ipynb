{
 "cells": [
  {
   "cell_type": "markdown",
   "id": "cbd40722",
   "metadata": {},
   "source": [
    "# DELEGATED ACCESS SAMPLES (REQUIRES SIGNED IN USER)\n",
    "\n",
    "## 1. DEVICE CODE FLOW"
   ]
  },
  {
   "cell_type": "code",
   "execution_count": null,
   "id": "7ee0d30d",
   "metadata": {},
   "outputs": [],
   "source": [
    "import asyncio\n",
    "\n",
    "from azure.identity import DeviceCodeCredential\n",
    "from msgraph import GraphServiceClient\n",
    "\n",
    "# Create a credential object. Used to authenticate requests\n",
    "credential = DeviceCodeCredential(\n",
    "    client_id='CLIENT_ID',\n",
    "    tenant_id='TENANT_ID',\n",
    "    )\n",
    "\n",
    "scopes = [\"User.Read\"]\n",
    "\n",
    "# Create an API client with the credentials and scopes.\n",
    "client = GraphServiceClient(credentials=credential, scopes=scopes)\n",
    "\n",
    "# GET A USER USING THE USER ID (GET /users/{id})\n",
    "async def get_user():\n",
    "    user = await client.users_by_id('USER_ID').get()\n",
    "    if user:\n",
    "        print(user.user_principal_name, user.display_name, user.id)\n",
    "asyncio.run(get_user())"
   ]
  },
  {
   "cell_type": "markdown",
   "id": "b3c38650",
   "metadata": {},
   "source": [
    "## 2. INTERACTIVE BROWSER FLOW"
   ]
  },
  {
   "cell_type": "code",
   "execution_count": null,
   "id": "088d183e",
   "metadata": {},
   "outputs": [],
   "source": [
    "import asyncio\n",
    "from azure.identity import InteractiveBrowserCredential\n",
    "from msgraph import GraphServiceClient\n",
    "\n",
    "# Create a credential object. Used to authenticate requests \n",
    "credentials = InteractiveBrowserCredential(\n",
    "    client_id=os.getenv('client_id'),\n",
    "    tenant_id=os.getenv('tenant_id'),\n",
    ")\n",
    "\n",
    "scopes = [\"User.Read\"]\n",
    "\n",
    "# Create an API client with the credentials and scopes.\n",
    "client = GraphServiceClient(credentials=credential, scopes=scopes)\n",
    "\n",
    "# GET A USER USING THE USER ID (GET /users/{id})\n",
    "async def get_user():\n",
    "    user = await client.users_by_id('USER_ID').get()\n",
    "    if user:\n",
    "        print(user.user_principal_name, user.display_name, user.id)\n",
    "asyncio.run(get_user())"
   ]
  },
  {
   "cell_type": "markdown",
   "id": "d6021512",
   "metadata": {},
   "source": [
    "# APPLICATION ACCESS SAMPLES (APPLICATIONS ONLY)\n",
    "\n",
    "## 3. CLIENT SECRET CREDENTIALS FLOW"
   ]
  },
  {
   "cell_type": "code",
   "execution_count": null,
   "id": "93c9f938",
   "metadata": {},
   "outputs": [],
   "source": [
    "import asyncio\n",
    "\n",
    "from azure.identity import ClientSecretCredential\n",
    "from msgraph import GraphServiceClient\n",
    "\n",
    "# Create a credential object. Used to authenticate requests\n",
    "credential = ClientSecretCredential(\n",
    "    tenant_id='TENANT_ID',\n",
    "    client_id='CLIENT_ID',\n",
    "    client_secret='CLIENT_SECRET'\n",
    ")\n",
    "scopes = ['https://graph.microsoft.com/.default']\n",
    "\n",
    "# Create an API client with the credentials and scopes.\n",
    "client = GraphServiceClient(credentials=credential, scopes=scopes)\n",
    "\n",
    "# GET A USER USING THE USER ID (GET /users/{id})\n",
    "async def get_user():\n",
    "    user = await client.users.by_user_id('USER_ID').get()\n",
    "    if user:\n",
    "        print(user.user_principal_name, user.display_name, user.id)\n",
    "asyncio.run(get_user())"
   ]
  },
  {
   "cell_type": "markdown",
   "id": "f0045586",
   "metadata": {},
   "source": [
    "## 4. ENVIRONMENT CREDENTIAL FLOW (ASYNC)\n",
    "\n",
    "```py\n",
    "import asyncio\n",
    "\n",
    "from azure.identity.aio import EnvironmentCredential\n",
    "from msgraph import GraphServiceClient\n",
    "\n",
    "# Create a credential object. Used to authenticate requests\n",
    "credential = EnvironmentCredential()\n",
    "scopes = ['https://graph.microsoft.com/.default']\n",
    "\n",
    "# Create an API client with the credentials and scopes.\n",
    "client = GraphServiceClient(credentials=credential, scopes=scopes)\n",
    "\n",
    "# GET A USER USING THE USER ID (GET /users/{id})\n",
    "async def get_user():\n",
    "    user = await client.users.by_user_id('USER_ID').get()\n",
    "    if user:\n",
    "        print(user.user_principal_name, user.display_name, user.id)\n",
    "asyncio.run(get_user())"
   ]
  }
 ],
 "metadata": {},
 "nbformat": 4,
 "nbformat_minor": 5
}
